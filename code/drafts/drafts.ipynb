{
 "cells": [
  {
   "cell_type": "code",
   "execution_count": 3,
   "metadata": {},
   "outputs": [
    {
     "data": {
      "text/plain": [
       "44"
      ]
     },
     "metadata": {},
     "output_type": "display_data"
    }
   ],
   "source": [
    "# A\n",
    "sum([6, 6, 1, 5, 3, 6, 3, 9, 5])"
   ]
  },
  {
   "cell_type": "code",
   "execution_count": 4,
   "metadata": {},
   "outputs": [
    {
     "data": {
      "text/plain": [
       "31"
      ]
     },
     "metadata": {},
     "output_type": "display_data"
    }
   ],
   "source": [
    "# indep\n",
    "sum([5, 2, 2, 3, 4, 3, 3, 5, 4])"
   ]
  },
  {
   "cell_type": "code",
   "execution_count": null,
   "metadata": {},
   "outputs": [],
   "source": [
    "sum([2,4,2])"
   ]
  },
  {
   "cell_type": "code",
   "execution_count": 6,
   "metadata": {},
   "outputs": [
    {
     "data": {
      "text/plain": [
       "10-element Vector{Int64}:\n",
       " 4\n",
       " 3\n",
       " 3\n",
       " 2\n",
       " 5\n",
       " 1\n",
       " 4\n",
       " 2\n",
       " 5\n",
       " 4"
      ]
     },
     "metadata": {},
     "output_type": "display_data"
    }
   ],
   "source": [
    "rand(1:5, 10)"
   ]
  },
  {
   "cell_type": "code",
   "execution_count": 2,
   "metadata": {},
   "outputs": [
    {
     "data": {
      "text/plain": [
       "154//75"
      ]
     },
     "metadata": {},
     "output_type": "display_data"
    }
   ],
   "source": [
    "(88*7) // (100*3)"
   ]
  },
  {
   "cell_type": "code",
   "execution_count": 5,
   "metadata": {},
   "outputs": [
    {
     "data": {
      "text/plain": [
       "0.5366666666666666"
      ]
     },
     "metadata": {},
     "output_type": "display_data"
    }
   ],
   "source": [
    "float((7 *23)//(300))"
   ]
  },
  {
   "cell_type": "code",
   "execution_count": 4,
   "metadata": {},
   "outputs": [
    {
     "ename": "ErrorException",
     "evalue": "syntax: invalid identifier name \"?\"",
     "output_type": "error",
     "traceback": [
      "syntax: invalid identifier name \"?\"\n",
      "\n",
      "Stacktrace:\n",
      " [1] top-level scope\n",
      "   @ ~/sci/projetos/zugzwang/code/drafts/drafts.ipynb:1"
     ]
    }
   ],
   "source": [
    "?Rational"
   ]
  },
  {
   "cell_type": "code",
   "execution_count": 8,
   "metadata": {},
   "outputs": [
    {
     "data": {
      "text/plain": [
       "-61//100"
      ]
     },
     "metadata": {},
     "output_type": "display_data"
    }
   ],
   "source": [
    "1-(21*23)//300"
   ]
  },
  {
   "cell_type": "code",
   "execution_count": 9,
   "metadata": {},
   "outputs": [
    {
     "data": {
      "text/plain": [
       "1000"
      ]
     },
     "metadata": {},
     "output_type": "display_data"
    }
   ],
   "source": [
    "35+644+68+211+7+35"
   ]
  },
  {
   "cell_type": "code",
   "execution_count": 16,
   "metadata": {},
   "outputs": [
    {
     "data": {
      "text/plain": [
       "391//750"
      ]
     },
     "metadata": {},
     "output_type": "display_data"
    }
   ],
   "source": [
    "θ = (68 * 23)//(3000)\n"
   ]
  },
  {
   "cell_type": "code",
   "execution_count": 17,
   "metadata": {},
   "outputs": [
    {
     "data": {
      "text/plain": [
       "0.5213333333333333"
      ]
     },
     "metadata": {},
     "output_type": "display_data"
    }
   ],
   "source": [
    "float(θ)"
   ]
  },
  {
   "cell_type": "code",
   "execution_count": 19,
   "metadata": {},
   "outputs": [
    {
     "data": {
      "text/plain": [
       "4853//3000"
      ]
     },
     "metadata": {},
     "output_type": "display_data"
    }
   ],
   "source": [
    "θ_1 = (211 * 23) // 3000"
   ]
  },
  {
   "cell_type": "code",
   "execution_count": 20,
   "metadata": {},
   "outputs": [],
   "source": [
    "using StatsBase"
   ]
  },
  {
   "cell_type": "code",
   "execution_count": 24,
   "metadata": {},
   "outputs": [],
   "source": [
    "ds = 0.001 .* [0, 35, 644, 68, 211, 0, 0, 7, 35];\n",
    "de = (1/23) .* [0, 0, 7, 3*θ, 3*(1-θ), 0, 0, 3, 10];"
   ]
  },
  {
   "cell_type": "code",
   "execution_count": 25,
   "metadata": {},
   "outputs": [
    {
     "data": {
      "text/plain": [
       "0.18670312228405667"
      ]
     },
     "metadata": {},
     "output_type": "display_data"
    }
   ],
   "source": [
    "rmsd(ds, de)"
   ]
  },
  {
   "cell_type": "code",
   "execution_count": 27,
   "metadata": {},
   "outputs": [
    {
     "data": {
      "text/plain": [
       "0.5213333333333333"
      ]
     },
     "metadata": {},
     "output_type": "display_data"
    }
   ],
   "source": [
    "float(θ)"
   ]
  },
  {
   "cell_type": "code",
   "execution_count": 28,
   "metadata": {},
   "outputs": [
    {
     "data": {
      "text/plain": [
       "3.1029411764705883"
      ]
     },
     "metadata": {},
     "output_type": "display_data"
    }
   ],
   "source": [
    "211/68"
   ]
  },
  {
   "cell_type": "code",
   "execution_count": 29,
   "metadata": {},
   "outputs": [
    {
     "data": {
      "text/plain": [
       "0.3222748815165877"
      ]
     },
     "metadata": {},
     "output_type": "display_data"
    }
   ],
   "source": [
    "68/211"
   ]
  },
  {
   "cell_type": "code",
   "execution_count": 30,
   "metadata": {},
   "outputs": [
    {
     "data": {
      "text/plain": [
       "7.666666666666667"
      ]
     },
     "metadata": {},
     "output_type": "display_data"
    }
   ],
   "source": [
    "23/3"
   ]
  },
  {
   "cell_type": "code",
   "execution_count": 36,
   "metadata": {},
   "outputs": [
    {
     "name": "stdout",
     "output_type": "stream",
     "text": [
      "ab: 253//500, 0.506\n",
      "ac: -2543//3000, -0.8476666666666667\n"
     ]
    }
   ],
   "source": [
    "n_ab = 66\n",
    "n_ac = 241\n",
    "\n",
    "t_ab = (23*n_ab) // 3000\n",
    "println(\"ab: $t_ab, $(float(t_ab))\")\n",
    "\n",
    "t_ac = 1 - (23 * n_ac // 3000) \n",
    "println(\"ac: $t_ac, $(float(t_ac))\")"
   ]
  },
  {
   "cell_type": "code",
   "execution_count": 5,
   "metadata": {},
   "outputs": [
    {
     "name": "stdout",
     "output_type": "stream",
     "text": [
      "a: 0.03402, b: -0.03298, c: 0.30903\n"
     ]
    },
    {
     "data": {
      "image/png": "[encoded data removed]",
      "image/svg+xml": [
       "<?xml version=\"1.0\" encoding=\"utf-8\"?>\n",
       "<svg xmlns=\"http://www.w3.org/2000/svg\" xmlns:xlink=\"http://www.w3.org/1999/xlink\" width=\"600\" height=\"400\" viewBox=\"0 0 2400 1600\">\n",
       "<defs>\n",
       "  <clipPath id=\"clip740\">\n",
       "    <rect x=\"0\" y=\"0\" width=\"2400\" height=\"1600\"/>\n",
       "  </clipPath>\n",
       "</defs>\n",
       "<path clip-path=\"url(#clip740)\" d=\"M0 1600 L2400 1600 L2400 0 L0 0  Z\" fill=\"#ffffff\" fill-rule=\"evenodd\" fill-opacity=\"1\"/>\n",
       "<defs>\n",
       "  <clipPath id=\"clip741\">\n",
       "    <rect x=\"480\" y=\"0\" width=\"1681\" height=\"1600\"/>\n",
       "  </clipPath>\n",
       "</defs>\n",
       "<path clip-path=\"url(#clip740)\" d=\"M216.922 1486.45 L2352.76 1486.45 L2352.76 47.2441 L216.922 47.2441  Z\" fill=\"#ffffff\" fill-rule=\"evenodd\" fill-opacity=\"1\"/>\n",
       "<defs>\n",
       "  <clipPath id=\"clip742\">\n",
       "    <rect x=\"216\" y=\"47\" width=\"2137\" height=\"1440\"/>\n",
       "  </clipPath>\n",
       "</defs>\n",
       "<polyline clip-path=\"url(#clip742)\" style=\"stroke:#000000; stroke-linecap:round; stroke-linejoin:round; stroke-width:2; stroke-opacity:0.1; fill:none\" points=\"277.37,1486.45 277.37,47.2441 \"/>\n",
       "<polyline clip-path=\"url(#clip742)\" style=\"stroke:#000000; stroke-linecap:round; stroke-linejoin:round; stroke-width:2; stroke-opacity:0.1; fill:none\" points=\"781.105,1486.45 781.105,47.2441 \"/>\n",
       "<polyline clip-path=\"url(#clip742)\" style=\"stroke:#000000; stroke-linecap:round; stroke-linejoin:round; stroke-width:2; stroke-opacity:0.1; fill:none\" points=\"1284.84,1486.45 1284.84,47.2441 \"/>\n",
       "<polyline clip-path=\"url(#clip742)\" style=\"stroke:#000000; stroke-linecap:round; stroke-linejoin:round; stroke-width:2; stroke-opacity:0.1; fill:none\" points=\"1788.57,1486.45 1788.57,47.2441 \"/>\n",
       "<polyline clip-path=\"url(#clip742)\" style=\"stroke:#000000; stroke-linecap:round; stroke-linejoin:round; stroke-width:2; stroke-opacity:0.1; fill:none\" points=\"2292.31,1486.45 2292.31,47.2441 \"/>\n",
       "<polyline clip-path=\"url(#clip740)\" style=\"stroke:#000000; stroke-linecap:round; stroke-linejoin:round; stroke-width:4; stroke-opacity:1; fill:none\" points=\"216.922,1486.45 2352.76,1486.45 \"/>\n",
       "<polyline clip-path=\"url(#clip740)\" style=\"stroke:#000000; stroke-linecap:round; stroke-linejoin:round; stroke-width:4; stroke-opacity:1; fill:none\" points=\"277.37,1486.45 277.37,1467.55 \"/>\n",
       "<polyline clip-path=\"url(#clip740)\" style=\"stroke:#000000; stroke-linecap:round; stroke-linejoin:round; stroke-width:4; stroke-opacity:1; fill:none\" points=\"781.105,1486.45 781.105,1467.55 \"/>\n",
       "<polyline clip-path=\"url(#clip740)\" style=\"stroke:#000000; stroke-linecap:round; stroke-linejoin:round; stroke-width:4; stroke-opacity:1; fill:none\" points=\"1284.84,1486.45 1284.84,1467.55 \"/>\n",
       "<polyline clip-path=\"url(#clip740)\" style=\"stroke:#000000; stroke-linecap:round; stroke-linejoin:round; stroke-width:4; stroke-opacity:1; fill:none\" points=\"1788.57,1486.45 1788.57,1467.55 \"/>\n",
       "<polyline clip-path=\"url(#clip740)\" style=\"stroke:#000000; stroke-linecap:round; stroke-linejoin:round; stroke-width:4; stroke-opacity:1; fill:none\" points=\"2292.31,1486.45 2292.31,1467.55 \"/>\n",
       "<path clip-path=\"url(#clip740)\" d=\"M239.674 1517.37 Q236.062 1517.37 234.234 1520.93 Q232.428 1524.47 232.428 1531.6 Q232.428 1538.71 234.234 1542.27 Q236.062 1545.82 239.674 1545.82 Q243.308 1545.82 245.113 1542.27 Q246.942 1538.71 246.942 1531.6 Q246.942 1524.47 245.113 1520.93 Q243.308 1517.37 239.674 1517.37 M239.674 1513.66 Q245.484 1513.66 248.539 1518.27 Q251.618 1522.85 251.618 1531.6 Q251.618 1540.33 248.539 1544.94 Q245.484 1549.52 239.674 1549.52 Q233.863 1549.52 230.785 1544.94 Q227.729 1540.33 227.729 1531.6 Q227.729 1522.85 230.785 1518.27 Q233.863 1513.66 239.674 1513.66 Z\" fill=\"#000000\" fill-rule=\"nonzero\" fill-opacity=\"1\" /><path clip-path=\"url(#clip740)\" d=\"M259.835 1542.97 L264.72 1542.97 L264.72 1548.85 L259.835 1548.85 L259.835 1542.97 Z\" fill=\"#000000\" fill-rule=\"nonzero\" fill-opacity=\"1\" /><path clip-path=\"url(#clip740)\" d=\"M284.905 1517.37 Q281.294 1517.37 279.465 1520.93 Q277.659 1524.47 277.659 1531.6 Q277.659 1538.71 279.465 1542.27 Q281.294 1545.82 284.905 1545.82 Q288.539 1545.82 290.345 1542.27 Q292.173 1538.71 292.173 1531.6 Q292.173 1524.47 290.345 1520.93 Q288.539 1517.37 284.905 1517.37 M284.905 1513.66 Q290.715 1513.66 293.77 1518.27 Q296.849 1522.85 296.849 1531.6 Q296.849 1540.33 293.77 1544.94 Q290.715 1549.52 284.905 1549.52 Q279.095 1549.52 276.016 1544.94 Q272.96 1540.33 272.96 1531.6 Q272.96 1522.85 276.016 1518.27 Q279.095 1513.66 284.905 1513.66 Z\" fill=\"#000000\" fill-rule=\"nonzero\" fill-opacity=\"1\" /><path clip-path=\"url(#clip740)\" d=\"M315.067 1517.37 Q311.456 1517.37 309.627 1520.93 Q307.821 1524.47 307.821 1531.6 Q307.821 1538.71 309.627 1542.27 Q311.456 1545.82 315.067 1545.82 Q318.701 1545.82 320.506 1542.27 Q322.335 1538.71 322.335 1531.6 Q322.335 1524.47 320.506 1520.93 Q318.701 1517.37 315.067 1517.37 M315.067 1513.66 Q320.877 1513.66 323.932 1518.27 Q327.011 1522.85 327.011 1531.6 Q327.011 1540.33 323.932 1544.94 Q320.877 1549.52 315.067 1549.52 Q309.257 1549.52 306.178 1544.94 Q303.122 1540.33 303.122 1531.6 Q303.122 1522.85 306.178 1518.27 Q309.257 1513.66 315.067 1513.66 Z\" fill=\"#000000\" fill-rule=\"nonzero\" fill-opacity=\"1\" /><path clip-path=\"url(#clip740)\" d=\"M743.906 1517.37 Q740.295 1517.37 738.466 1520.93 Q736.66 1524.47 736.66 1531.6 Q736.66 1538.71 738.466 1542.27 Q740.295 1545.82 743.906 1545.82 Q747.54 1545.82 749.345 1542.27 Q751.174 1538.71 751.174 1531.6 Q751.174 1524.47 749.345 1520.93 Q747.54 1517.37 743.906 1517.37 M743.906 1513.66 Q749.716 1513.66 752.771 1518.27 Q755.85 1522.85 755.85 1531.6 Q755.85 1540.33 752.771 1544.94 Q749.716 1549.52 743.906 1549.52 Q738.096 1549.52 735.017 1544.94 Q731.961 1540.33 731.961 1531.6 Q731.961 1522.85 735.017 1518.27 Q738.096 1513.66 743.906 1513.66 Z\" fill=\"#000000\" fill-rule=\"nonzero\" fill-opacity=\"1\" /><path clip-path=\"url(#clip740)\" d=\"M764.068 1542.97 L768.952 1542.97 L768.952 1548.85 L764.068 1548.85 L764.068 1542.97 Z\" fill=\"#000000\" fill-rule=\"nonzero\" fill-opacity=\"1\" /><path clip-path=\"url(#clip740)\" d=\"M783.165 1544.91 L799.484 1544.91 L799.484 1548.85 L777.54 1548.85 L777.54 1544.91 Q780.202 1542.16 784.785 1537.53 Q789.392 1532.88 790.572 1531.53 Q792.817 1529.01 793.697 1527.27 Q794.6 1525.51 794.6 1523.82 Q794.6 1521.07 792.655 1519.33 Q790.734 1517.6 787.632 1517.6 Q785.433 1517.6 782.98 1518.36 Q780.549 1519.13 777.771 1520.68 L777.771 1515.95 Q780.595 1514.82 783.049 1514.24 Q785.503 1513.66 787.54 1513.66 Q792.91 1513.66 796.104 1516.35 Q799.299 1519.03 799.299 1523.52 Q799.299 1525.65 798.489 1527.57 Q797.702 1529.47 795.595 1532.07 Q795.016 1532.74 791.915 1535.95 Q788.813 1539.15 783.165 1544.91 Z\" fill=\"#000000\" fill-rule=\"nonzero\" fill-opacity=\"1\" /><path clip-path=\"url(#clip740)\" d=\"M809.345 1514.29 L827.702 1514.29 L827.702 1518.22 L813.628 1518.22 L813.628 1526.7 Q814.646 1526.35 815.665 1526.19 Q816.683 1526 817.702 1526 Q823.489 1526 826.868 1529.17 Q830.248 1532.34 830.248 1537.76 Q830.248 1543.34 826.776 1546.44 Q823.303 1549.52 816.984 1549.52 Q814.808 1549.52 812.54 1549.15 Q810.294 1548.78 807.887 1548.04 L807.887 1543.34 Q809.97 1544.47 812.192 1545.03 Q814.415 1545.58 816.891 1545.58 Q820.896 1545.58 823.234 1543.48 Q825.572 1541.37 825.572 1537.76 Q825.572 1534.15 823.234 1532.04 Q820.896 1529.94 816.891 1529.94 Q815.016 1529.94 813.141 1530.35 Q811.29 1530.77 809.345 1531.65 L809.345 1514.29 Z\" fill=\"#000000\" fill-rule=\"nonzero\" fill-opacity=\"1\" /><path clip-path=\"url(#clip740)\" d=\"M1247.14 1517.37 Q1243.53 1517.37 1241.7 1520.93 Q1239.9 1524.47 1239.9 1531.6 Q1239.9 1538.71 1241.7 1542.27 Q1243.53 1545.82 1247.14 1545.82 Q1250.78 1545.82 1252.58 1542.27 Q1254.41 1538.71 1254.41 1531.6 Q1254.41 1524.47 1252.58 1520.93 Q1250.78 1517.37 1247.14 1517.37 M1247.14 1513.66 Q1252.95 1513.66 1256.01 1518.27 Q1259.09 1522.85 1259.09 1531.6 Q1259.09 1540.33 1256.01 1544.94 Q1252.95 1549.52 1247.14 1549.52 Q1241.33 1549.52 1238.25 1544.94 Q1235.2 1540.33 1235.2 1531.6 Q1235.2 1522.85 1238.25 1518.27 Q1241.33 1513.66 1247.14 1513.66 Z\" fill=\"#000000\" fill-rule=\"nonzero\" fill-opacity=\"1\" /><path clip-path=\"url(#clip740)\" d=\"M1267.3 1542.97 L1272.19 1542.97 L1272.19 1548.85 L1267.3 1548.85 L1267.3 1542.97 Z\" fill=\"#000000\" fill-rule=\"nonzero\" fill-opacity=\"1\" /><path clip-path=\"url(#clip740)\" d=\"M1282.42 1514.29 L1300.78 1514.29 L1300.78 1518.22 L1286.7 1518.22 L1286.7 1526.7 Q1287.72 1526.35 1288.74 1526.19 Q1289.76 1526 1290.78 1526 Q1296.56 1526 1299.94 1529.17 Q1303.32 1532.34 1303.32 1537.76 Q1303.32 1543.34 1299.85 1546.44 Q1296.38 1549.52 1290.06 1549.52 Q1287.88 1549.52 1285.61 1549.15 Q1283.37 1548.78 1280.96 1548.04 L1280.96 1543.34 Q1283.04 1544.47 1285.27 1545.03 Q1287.49 1545.58 1289.97 1545.58 Q1293.97 1545.58 1296.31 1543.48 Q1298.65 1541.37 1298.65 1537.76 Q1298.65 1534.15 1296.31 1532.04 Q1293.97 1529.94 1289.97 1529.94 Q1288.09 1529.94 1286.22 1530.35 Q1284.36 1530.77 1282.42 1531.65 L1282.42 1514.29 Z\" fill=\"#000000\" fill-rule=\"nonzero\" fill-opacity=\"1\" /><path clip-path=\"url(#clip740)\" d=\"M1322.54 1517.37 Q1318.92 1517.37 1317.1 1520.93 Q1315.29 1524.47 1315.29 1531.6 Q1315.29 1538.71 1317.1 1542.27 Q1318.92 1545.82 1322.54 1545.82 Q1326.17 1545.82 1327.98 1542.27 Q1329.8 1538.71 1329.8 1531.6 Q1329.8 1524.47 1327.98 1520.93 Q1326.17 1517.37 1322.54 1517.37 M1322.54 1513.66 Q1328.35 1513.66 1331.4 1518.27 Q1334.48 1522.85 1334.48 1531.6 Q1334.48 1540.33 1331.4 1544.94 Q1328.35 1549.52 1322.54 1549.52 Q1316.73 1549.52 1313.65 1544.94 Q1310.59 1540.33 1310.59 1531.6 Q1310.59 1522.85 1313.65 1518.27 Q1316.73 1513.66 1322.54 1513.66 Z\" fill=\"#000000\" fill-rule=\"nonzero\" fill-opacity=\"1\" /><path clip-path=\"url(#clip740)\" d=\"M1751.37 1517.37 Q1747.76 1517.37 1745.93 1520.93 Q1744.13 1524.47 1744.13 1531.6 Q1744.13 1538.71 1745.93 1542.27 Q1747.76 1545.82 1751.37 1545.82 Q1755.01 1545.82 1756.81 1542.27 Q1758.64 1538.71 1758.64 1531.6 Q1758.64 1524.47 1756.81 1520.93 Q1755.01 1517.37 1751.37 1517.37 M1751.37 1513.66 Q1757.18 1513.66 1760.24 1518.27 Q1763.32 1522.85 1763.32 1531.6 Q1763.32 1540.33 1760.24 1544.94 Q1757.18 1549.52 1751.37 1549.52 Q1745.56 1549.52 1742.49 1544.94 Q1739.43 1540.33 1739.43 1531.6 Q1739.43 1522.85 1742.49 1518.27 Q1745.56 1513.66 1751.37 1513.66 Z\" fill=\"#000000\" fill-rule=\"nonzero\" fill-opacity=\"1\" /><path clip-path=\"url(#clip740)\" d=\"M1771.54 1542.97 L1776.42 1542.97 L1776.42 1548.85 L1771.54 1548.85 L1771.54 1542.97 Z\" fill=\"#000000\" fill-rule=\"nonzero\" fill-opacity=\"1\" /><path clip-path=\"url(#clip740)\" d=\"M1785.43 1514.29 L1807.65 1514.29 L1807.65 1516.28 L1795.1 1548.85 L1790.22 1548.85 L1802.02 1518.22 L1785.43 1518.22 L1785.43 1514.29 Z\" fill=\"#000000\" fill-rule=\"nonzero\" fill-opacity=\"1\" /><path clip-path=\"url(#clip740)\" d=\"M1816.81 1514.29 L1835.17 1514.29 L1835.17 1518.22 L1821.1 1518.22 L1821.1 1526.7 Q1822.11 1526.35 1823.13 1526.19 Q1824.15 1526 1825.17 1526 Q1830.96 1526 1834.34 1529.17 Q1837.72 1532.34 1837.72 1537.76 Q1837.72 1543.34 1834.24 1546.44 Q1830.77 1549.52 1824.45 1549.52 Q1822.28 1549.52 1820.01 1549.15 Q1817.76 1548.78 1815.36 1548.04 L1815.36 1543.34 Q1817.44 1544.47 1819.66 1545.03 Q1821.88 1545.58 1824.36 1545.58 Q1828.36 1545.58 1830.7 1543.48 Q1833.04 1541.37 1833.04 1537.76 Q1833.04 1534.15 1830.7 1532.04 Q1828.36 1529.94 1824.36 1529.94 Q1822.49 1529.94 1820.61 1530.35 Q1818.76 1530.77 1816.81 1531.65 L1816.81 1514.29 Z\" fill=\"#000000\" fill-rule=\"nonzero\" fill-opacity=\"1\" /><path clip-path=\"url(#clip740)\" d=\"M2244.38 1544.91 L2252.02 1544.91 L2252.02 1518.55 L2243.71 1520.21 L2243.71 1515.95 L2251.97 1514.29 L2256.65 1514.29 L2256.65 1544.91 L2264.29 1544.91 L2264.29 1548.85 L2244.38 1548.85 L2244.38 1544.91 Z\" fill=\"#000000\" fill-rule=\"nonzero\" fill-opacity=\"1\" /><path clip-path=\"url(#clip740)\" d=\"M2273.73 1542.97 L2278.62 1542.97 L2278.62 1548.85 L2273.73 1548.85 L2273.73 1542.97 Z\" fill=\"#000000\" fill-rule=\"nonzero\" fill-opacity=\"1\" /><path clip-path=\"url(#clip740)\" d=\"M2298.8 1517.37 Q2295.19 1517.37 2293.36 1520.93 Q2291.56 1524.47 2291.56 1531.6 Q2291.56 1538.71 2293.36 1542.27 Q2295.19 1545.82 2298.8 1545.82 Q2302.44 1545.82 2304.24 1542.27 Q2306.07 1538.71 2306.07 1531.6 Q2306.07 1524.47 2304.24 1520.93 Q2302.44 1517.37 2298.8 1517.37 M2298.8 1513.66 Q2304.61 1513.66 2307.67 1518.27 Q2310.75 1522.85 2310.75 1531.6 Q2310.75 1540.33 2307.67 1544.94 Q2304.61 1549.52 2298.8 1549.52 Q2292.99 1549.52 2289.91 1544.94 Q2286.86 1540.33 2286.86 1531.6 Q2286.86 1522.85 2289.91 1518.27 Q2292.99 1513.66 2298.8 1513.66 Z\" fill=\"#000000\" fill-rule=\"nonzero\" fill-opacity=\"1\" /><path clip-path=\"url(#clip740)\" d=\"M2328.96 1517.37 Q2325.35 1517.37 2323.52 1520.93 Q2321.72 1524.47 2321.72 1531.6 Q2321.72 1538.71 2323.52 1542.27 Q2325.35 1545.82 2328.96 1545.82 Q2332.6 1545.82 2334.4 1542.27 Q2336.23 1538.71 2336.23 1531.6 Q2336.23 1524.47 2334.4 1520.93 Q2332.6 1517.37 2328.96 1517.37 M2328.96 1513.66 Q2334.77 1513.66 2337.83 1518.27 Q2340.91 1522.85 2340.91 1531.6 Q2340.91 1540.33 2337.83 1544.94 Q2334.77 1549.52 2328.96 1549.52 Q2323.15 1549.52 2320.07 1544.94 Q2317.02 1540.33 2317.02 1531.6 Q2317.02 1522.85 2320.07 1518.27 Q2323.15 1513.66 2328.96 1513.66 Z\" fill=\"#000000\" fill-rule=\"nonzero\" fill-opacity=\"1\" /><polyline clip-path=\"url(#clip742)\" style=\"stroke:#000000; stroke-linecap:round; stroke-linejoin:round; stroke-width:2; stroke-opacity:0.1; fill:none\" points=\"216.922,1300.98 2352.76,1300.98 \"/>\n",
       "<polyline clip-path=\"url(#clip742)\" style=\"stroke:#000000; stroke-linecap:round; stroke-linejoin:round; stroke-width:2; stroke-opacity:0.1; fill:none\" points=\"216.922,1000.36 2352.76,1000.36 \"/>\n",
       "<polyline clip-path=\"url(#clip742)\" style=\"stroke:#000000; stroke-linecap:round; stroke-linejoin:round; stroke-width:2; stroke-opacity:0.1; fill:none\" points=\"216.922,699.737 2352.76,699.737 \"/>\n",
       "<polyline clip-path=\"url(#clip742)\" style=\"stroke:#000000; stroke-linecap:round; stroke-linejoin:round; stroke-width:2; stroke-opacity:0.1; fill:none\" points=\"216.922,399.117 2352.76,399.117 \"/>\n",
       "<polyline clip-path=\"url(#clip742)\" style=\"stroke:#000000; stroke-linecap:round; stroke-linejoin:round; stroke-width:2; stroke-opacity:0.1; fill:none\" points=\"216.922,98.498 2352.76,98.498 \"/>\n",
       "<polyline clip-path=\"url(#clip740)\" style=\"stroke:#000000; stroke-linecap:round; stroke-linejoin:round; stroke-width:4; stroke-opacity:1; fill:none\" points=\"216.922,1486.45 216.922,47.2441 \"/>\n",
       "<polyline clip-path=\"url(#clip740)\" style=\"stroke:#000000; stroke-linecap:round; stroke-linejoin:round; stroke-width:4; stroke-opacity:1; fill:none\" points=\"216.922,1300.98 235.82,1300.98 \"/>\n",
       "<polyline clip-path=\"url(#clip740)\" style=\"stroke:#000000; stroke-linecap:round; stroke-linejoin:round; stroke-width:4; stroke-opacity:1; fill:none\" points=\"216.922,1000.36 235.82,1000.36 \"/>\n",
       "<polyline clip-path=\"url(#clip740)\" style=\"stroke:#000000; stroke-linecap:round; stroke-linejoin:round; stroke-width:4; stroke-opacity:1; fill:none\" points=\"216.922,699.737 235.82,699.737 \"/>\n",
       "<polyline clip-path=\"url(#clip740)\" style=\"stroke:#000000; stroke-linecap:round; stroke-linejoin:round; stroke-width:4; stroke-opacity:1; fill:none\" points=\"216.922,399.117 235.82,399.117 \"/>\n",
       "<polyline clip-path=\"url(#clip740)\" style=\"stroke:#000000; stroke-linecap:round; stroke-linejoin:round; stroke-width:4; stroke-opacity:1; fill:none\" points=\"216.922,98.498 235.82,98.498 \"/>\n",
       "<path clip-path=\"url(#clip740)\" d=\"M65.0198 1286.77 Q61.4087 1286.77 59.58 1290.34 Q57.7745 1293.88 57.7745 1301.01 Q57.7745 1308.12 59.58 1311.68 Q61.4087 1315.22 65.0198 1315.22 Q68.6541 1315.22 70.4596 1311.68 Q72.2883 1308.12 72.2883 1301.01 Q72.2883 1293.88 70.4596 1290.34 Q68.6541 1286.77 65.0198 1286.77 M65.0198 1283.07 Q70.83 1283.07 73.8855 1287.68 Q76.9642 1292.26 76.9642 1301.01 Q76.9642 1309.74 73.8855 1314.34 Q70.83 1318.93 65.0198 1318.93 Q59.2097 1318.93 56.131 1314.34 Q53.0754 1309.74 53.0754 1301.01 Q53.0754 1292.26 56.131 1287.68 Q59.2097 1283.07 65.0198 1283.07 Z\" fill=\"#000000\" fill-rule=\"nonzero\" fill-opacity=\"1\" /><path clip-path=\"url(#clip740)\" d=\"M85.1818 1312.38 L90.066 1312.38 L90.066 1318.26 L85.1818 1318.26 L85.1818 1312.38 Z\" fill=\"#000000\" fill-rule=\"nonzero\" fill-opacity=\"1\" /><path clip-path=\"url(#clip740)\" d=\"M114.418 1299.62 Q117.774 1300.34 119.649 1302.61 Q121.547 1304.88 121.547 1308.21 Q121.547 1313.33 118.029 1316.13 Q114.51 1318.93 108.029 1318.93 Q105.853 1318.93 103.538 1318.49 Q101.246 1318.07 98.7928 1317.21 L98.7928 1312.7 Q100.737 1313.83 103.052 1314.41 Q105.367 1314.99 107.89 1314.99 Q112.288 1314.99 114.58 1313.26 Q116.895 1311.52 116.895 1308.21 Q116.895 1305.15 114.742 1303.44 Q112.612 1301.7 108.793 1301.7 L104.765 1301.7 L104.765 1297.86 L108.978 1297.86 Q112.427 1297.86 114.256 1296.5 Q116.084 1295.11 116.084 1292.52 Q116.084 1289.85 114.186 1288.44 Q112.311 1287.01 108.793 1287.01 Q106.871 1287.01 104.672 1287.42 Q102.473 1287.84 99.8345 1288.72 L99.8345 1284.55 Q102.496 1283.81 104.811 1283.44 Q107.149 1283.07 109.209 1283.07 Q114.533 1283.07 117.635 1285.5 Q120.737 1287.91 120.737 1292.03 Q120.737 1294.9 119.094 1296.89 Q117.45 1298.86 114.418 1299.62 Z\" fill=\"#000000\" fill-rule=\"nonzero\" fill-opacity=\"1\" /><path clip-path=\"url(#clip740)\" d=\"M140.413 1286.77 Q136.802 1286.77 134.973 1290.34 Q133.168 1293.88 133.168 1301.01 Q133.168 1308.12 134.973 1311.68 Q136.802 1315.22 140.413 1315.22 Q144.047 1315.22 145.853 1311.68 Q147.681 1308.12 147.681 1301.01 Q147.681 1293.88 145.853 1290.34 Q144.047 1286.77 140.413 1286.77 M140.413 1283.07 Q146.223 1283.07 149.279 1287.68 Q152.357 1292.26 152.357 1301.01 Q152.357 1309.74 149.279 1314.34 Q146.223 1318.93 140.413 1318.93 Q134.603 1318.93 131.524 1314.34 Q128.469 1309.74 128.469 1301.01 Q128.469 1292.26 131.524 1287.68 Q134.603 1283.07 140.413 1283.07 Z\" fill=\"#000000\" fill-rule=\"nonzero\" fill-opacity=\"1\" /><path clip-path=\"url(#clip740)\" d=\"M164.603 1314.32 L180.922 1314.32 L180.922 1318.26 L158.978 1318.26 L158.978 1314.32 Q161.64 1311.57 166.223 1306.94 Q170.829 1302.28 172.01 1300.94 Q174.255 1298.42 175.135 1296.68 Q176.038 1294.92 176.038 1293.23 Q176.038 1290.48 174.093 1288.74 Q172.172 1287.01 169.07 1287.01 Q166.871 1287.01 164.417 1287.77 Q161.987 1288.53 159.209 1290.08 L159.209 1285.36 Q162.033 1284.23 164.487 1283.65 Q166.941 1283.07 168.978 1283.07 Q174.348 1283.07 177.542 1285.76 Q180.737 1288.44 180.737 1292.93 Q180.737 1295.06 179.927 1296.98 Q179.14 1298.88 177.033 1301.47 Q176.454 1302.14 173.353 1305.36 Q170.251 1308.56 164.603 1314.32 Z\" fill=\"#000000\" fill-rule=\"nonzero\" fill-opacity=\"1\" /><path clip-path=\"url(#clip740)\" d=\"M62.9365 986.155 Q59.3254 986.155 57.4967 989.72 Q55.6912 993.261 55.6912 1000.39 Q55.6912 1007.5 57.4967 1011.06 Q59.3254 1014.6 62.9365 1014.6 Q66.5707 1014.6 68.3763 1011.06 Q70.205 1007.5 70.205 1000.39 Q70.205 993.261 68.3763 989.72 Q66.5707 986.155 62.9365 986.155 M62.9365 982.451 Q68.7467 982.451 71.8022 987.058 Q74.8809 991.641 74.8809 1000.39 Q74.8809 1009.12 71.8022 1013.72 Q68.7467 1018.31 62.9365 1018.31 Q57.1264 1018.31 54.0477 1013.72 Q50.9921 1009.12 50.9921 1000.39 Q50.9921 991.641 54.0477 987.058 Q57.1264 982.451 62.9365 982.451 Z\" fill=\"#000000\" fill-rule=\"nonzero\" fill-opacity=\"1\" /><path clip-path=\"url(#clip740)\" d=\"M83.0984 1011.76 L87.9827 1011.76 L87.9827 1017.64 L83.0984 1017.64 L83.0984 1011.76 Z\" fill=\"#000000\" fill-rule=\"nonzero\" fill-opacity=\"1\" /><path clip-path=\"url(#clip740)\" d=\"M112.334 999.002 Q115.691 999.72 117.566 1001.99 Q119.464 1004.26 119.464 1007.59 Q119.464 1012.71 115.945 1015.51 Q112.427 1018.31 105.946 1018.31 Q103.77 1018.31 101.455 1017.87 Q99.1632 1017.45 96.7095 1016.59 L96.7095 1012.08 Q98.6539 1013.21 100.969 1013.79 Q103.284 1014.37 105.807 1014.37 Q110.205 1014.37 112.496 1012.64 Q114.811 1010.9 114.811 1007.59 Q114.811 1004.53 112.658 1002.82 Q110.529 1001.09 106.709 1001.09 L102.682 1001.09 L102.682 997.243 L106.895 997.243 Q110.344 997.243 112.172 995.877 Q114.001 994.488 114.001 991.896 Q114.001 989.234 112.103 987.822 Q110.228 986.386 106.709 986.386 Q104.788 986.386 102.589 986.803 Q100.39 987.22 97.7511 988.099 L97.7511 983.933 Q100.413 983.192 102.728 982.822 Q105.066 982.451 107.126 982.451 Q112.45 982.451 115.552 984.882 Q118.654 987.289 118.654 991.41 Q118.654 994.28 117.01 996.271 Q115.367 998.238 112.334 999.002 Z\" fill=\"#000000\" fill-rule=\"nonzero\" fill-opacity=\"1\" /><path clip-path=\"url(#clip740)\" d=\"M138.33 986.155 Q134.719 986.155 132.89 989.72 Q131.084 993.261 131.084 1000.39 Q131.084 1007.5 132.89 1011.06 Q134.719 1014.6 138.33 1014.6 Q141.964 1014.6 143.769 1011.06 Q145.598 1007.5 145.598 1000.39 Q145.598 993.261 143.769 989.72 Q141.964 986.155 138.33 986.155 M138.33 982.451 Q144.14 982.451 147.195 987.058 Q150.274 991.641 150.274 1000.39 Q150.274 1009.12 147.195 1013.72 Q144.14 1018.31 138.33 1018.31 Q132.519 1018.31 129.441 1013.72 Q126.385 1009.12 126.385 1000.39 Q126.385 991.641 129.441 987.058 Q132.519 982.451 138.33 982.451 Z\" fill=\"#000000\" fill-rule=\"nonzero\" fill-opacity=\"1\" /><path clip-path=\"url(#clip740)\" d=\"M171.339 987.15 L159.533 1005.6 L171.339 1005.6 L171.339 987.15 M170.112 983.076 L175.991 983.076 L175.991 1005.6 L180.922 1005.6 L180.922 1009.49 L175.991 1009.49 L175.991 1017.64 L171.339 1017.64 L171.339 1009.49 L155.737 1009.49 L155.737 1004.97 L170.112 983.076 Z\" fill=\"#000000\" fill-rule=\"nonzero\" fill-opacity=\"1\" /><path clip-path=\"url(#clip740)\" d=\"M63.2606 685.535 Q59.6495 685.535 57.8208 689.1 Q56.0152 692.642 56.0152 699.772 Q56.0152 706.878 57.8208 710.443 Q59.6495 713.984 63.2606 713.984 Q66.8948 713.984 68.7004 710.443 Q70.5291 706.878 70.5291 699.772 Q70.5291 692.642 68.7004 689.1 Q66.8948 685.535 63.2606 685.535 M63.2606 681.832 Q69.0707 681.832 72.1263 686.438 Q75.205 691.022 75.205 699.772 Q75.205 708.498 72.1263 713.105 Q69.0707 717.688 63.2606 717.688 Q57.4504 717.688 54.3717 713.105 Q51.3162 708.498 51.3162 699.772 Q51.3162 691.022 54.3717 686.438 Q57.4504 681.832 63.2606 681.832 Z\" fill=\"#000000\" fill-rule=\"nonzero\" fill-opacity=\"1\" /><path clip-path=\"url(#clip740)\" d=\"M83.4225 711.137 L88.3067 711.137 L88.3067 717.017 L83.4225 717.017 L83.4225 711.137 Z\" fill=\"#000000\" fill-rule=\"nonzero\" fill-opacity=\"1\" /><path clip-path=\"url(#clip740)\" d=\"M112.658 698.383 Q116.015 699.1 117.89 701.369 Q119.788 703.637 119.788 706.971 Q119.788 712.086 116.27 714.887 Q112.751 717.688 106.27 717.688 Q104.094 717.688 101.779 717.248 Q99.4872 716.832 97.0335 715.975 L97.0335 711.461 Q98.978 712.596 101.293 713.174 Q103.608 713.753 106.131 713.753 Q110.529 713.753 112.82 712.017 Q115.135 710.281 115.135 706.971 Q115.135 703.915 112.983 702.202 Q110.853 700.466 107.033 700.466 L103.006 700.466 L103.006 696.623 L107.219 696.623 Q110.668 696.623 112.496 695.258 Q114.325 693.869 114.325 691.276 Q114.325 688.614 112.427 687.202 Q110.552 685.767 107.033 685.767 Q105.112 685.767 102.913 686.184 Q100.714 686.6 98.0752 687.48 L98.0752 683.313 Q100.737 682.573 103.052 682.202 Q105.39 681.832 107.45 681.832 Q112.774 681.832 115.876 684.262 Q118.978 686.67 118.978 690.79 Q118.978 693.66 117.334 695.651 Q115.691 697.619 112.658 698.383 Z\" fill=\"#000000\" fill-rule=\"nonzero\" fill-opacity=\"1\" /><path clip-path=\"url(#clip740)\" d=\"M138.654 685.535 Q135.043 685.535 133.214 689.1 Q131.408 692.642 131.408 699.772 Q131.408 706.878 133.214 710.443 Q135.043 713.984 138.654 713.984 Q142.288 713.984 144.093 710.443 Q145.922 706.878 145.922 699.772 Q145.922 692.642 144.093 689.1 Q142.288 685.535 138.654 685.535 M138.654 681.832 Q144.464 681.832 147.519 686.438 Q150.598 691.022 150.598 699.772 Q150.598 708.498 147.519 713.105 Q144.464 717.688 138.654 717.688 Q132.844 717.688 129.765 713.105 Q126.709 708.498 126.709 699.772 Q126.709 691.022 129.765 686.438 Q132.844 681.832 138.654 681.832 Z\" fill=\"#000000\" fill-rule=\"nonzero\" fill-opacity=\"1\" /><path clip-path=\"url(#clip740)\" d=\"M169.394 697.873 Q166.246 697.873 164.394 700.026 Q162.566 702.179 162.566 705.929 Q162.566 709.656 164.394 711.832 Q166.246 713.984 169.394 713.984 Q172.542 713.984 174.371 711.832 Q176.223 709.656 176.223 705.929 Q176.223 702.179 174.371 700.026 Q172.542 697.873 169.394 697.873 M178.677 683.221 L178.677 687.48 Q176.917 686.647 175.112 686.207 Q173.329 685.767 171.57 685.767 Q166.941 685.767 164.487 688.892 Q162.056 692.017 161.709 698.336 Q163.075 696.322 165.135 695.258 Q167.195 694.17 169.672 694.17 Q174.88 694.17 177.89 697.341 Q180.922 700.489 180.922 705.929 Q180.922 711.253 177.774 714.471 Q174.626 717.688 169.394 717.688 Q163.399 717.688 160.228 713.105 Q157.056 708.498 157.056 699.772 Q157.056 691.577 160.945 686.716 Q164.834 681.832 171.385 681.832 Q173.144 681.832 174.927 682.179 Q176.732 682.526 178.677 683.221 Z\" fill=\"#000000\" fill-rule=\"nonzero\" fill-opacity=\"1\" /><path clip-path=\"url(#clip740)\" d=\"M63.5152 384.916 Q59.9041 384.916 58.0754 388.481 Q56.2699 392.023 56.2699 399.152 Q56.2699 406.259 58.0754 409.823 Q59.9041 413.365 63.5152 413.365 Q67.1494 413.365 68.955 409.823 Q70.7837 406.259 70.7837 399.152 Q70.7837 392.023 68.955 388.481 Q67.1494 384.916 63.5152 384.916 M63.5152 381.212 Q69.3254 381.212 72.3809 385.819 Q75.4596 390.402 75.4596 399.152 Q75.4596 407.879 72.3809 412.485 Q69.3254 417.069 63.5152 417.069 Q57.7051 417.069 54.6264 412.485 Q51.5708 407.879 51.5708 399.152 Q51.5708 390.402 54.6264 385.819 Q57.7051 381.212 63.5152 381.212 Z\" fill=\"#000000\" fill-rule=\"nonzero\" fill-opacity=\"1\" /><path clip-path=\"url(#clip740)\" d=\"M83.6771 410.518 L88.5614 410.518 L88.5614 416.397 L83.6771 416.397 L83.6771 410.518 Z\" fill=\"#000000\" fill-rule=\"nonzero\" fill-opacity=\"1\" /><path clip-path=\"url(#clip740)\" d=\"M112.913 397.763 Q116.27 398.481 118.145 400.749 Q120.043 403.018 120.043 406.351 Q120.043 411.467 116.524 414.268 Q113.006 417.069 106.524 417.069 Q104.348 417.069 102.034 416.629 Q99.7419 416.212 97.2882 415.356 L97.2882 410.842 Q99.2326 411.976 101.547 412.555 Q103.862 413.134 106.385 413.134 Q110.783 413.134 113.075 411.397 Q115.39 409.661 115.39 406.351 Q115.39 403.296 113.237 401.583 Q111.108 399.847 107.288 399.847 L103.26 399.847 L103.26 396.004 L107.473 396.004 Q110.922 396.004 112.751 394.638 Q114.58 393.249 114.58 390.657 Q114.58 387.995 112.682 386.583 Q110.807 385.148 107.288 385.148 Q105.367 385.148 103.168 385.564 Q100.969 385.981 98.3298 386.86 L98.3298 382.694 Q100.992 381.953 103.307 381.583 Q105.645 381.212 107.705 381.212 Q113.029 381.212 116.131 383.643 Q119.233 386.05 119.233 390.171 Q119.233 393.041 117.589 395.032 Q115.945 396.999 112.913 397.763 Z\" fill=\"#000000\" fill-rule=\"nonzero\" fill-opacity=\"1\" /><path clip-path=\"url(#clip740)\" d=\"M138.908 384.916 Q135.297 384.916 133.469 388.481 Q131.663 392.023 131.663 399.152 Q131.663 406.259 133.469 409.823 Q135.297 413.365 138.908 413.365 Q142.543 413.365 144.348 409.823 Q146.177 406.259 146.177 399.152 Q146.177 392.023 144.348 388.481 Q142.543 384.916 138.908 384.916 M138.908 381.212 Q144.718 381.212 147.774 385.819 Q150.853 390.402 150.853 399.152 Q150.853 407.879 147.774 412.485 Q144.718 417.069 138.908 417.069 Q133.098 417.069 130.019 412.485 Q126.964 407.879 126.964 399.152 Q126.964 390.402 130.019 385.819 Q133.098 381.212 138.908 381.212 Z\" fill=\"#000000\" fill-rule=\"nonzero\" fill-opacity=\"1\" /><path clip-path=\"url(#clip740)\" d=\"M169.07 399.985 Q165.737 399.985 163.816 401.768 Q161.917 403.55 161.917 406.675 Q161.917 409.8 163.816 411.583 Q165.737 413.365 169.07 413.365 Q172.404 413.365 174.325 411.583 Q176.246 409.777 176.246 406.675 Q176.246 403.55 174.325 401.768 Q172.427 399.985 169.07 399.985 M164.394 397.995 Q161.385 397.254 159.695 395.194 Q158.029 393.134 158.029 390.171 Q158.029 386.027 160.968 383.62 Q163.931 381.212 169.07 381.212 Q174.232 381.212 177.172 383.62 Q180.112 386.027 180.112 390.171 Q180.112 393.134 178.422 395.194 Q176.755 397.254 173.769 397.995 Q177.149 398.782 179.024 401.073 Q180.922 403.365 180.922 406.675 Q180.922 411.698 177.843 414.383 Q174.788 417.069 169.07 417.069 Q163.353 417.069 160.274 414.383 Q157.218 411.698 157.218 406.675 Q157.218 403.365 159.117 401.073 Q161.015 398.782 164.394 397.995 M162.681 390.61 Q162.681 393.296 164.348 394.8 Q166.038 396.305 169.07 396.305 Q172.079 396.305 173.769 394.8 Q175.482 393.296 175.482 390.61 Q175.482 387.925 173.769 386.421 Q172.079 384.916 169.07 384.916 Q166.038 384.916 164.348 386.421 Q162.681 387.925 162.681 390.61 Z\" fill=\"#000000\" fill-rule=\"nonzero\" fill-opacity=\"1\" /><path clip-path=\"url(#clip740)\" d=\"M63.4226 84.2966 Q59.8115 84.2966 57.9828 87.8614 Q56.1773 91.4031 56.1773 98.5327 Q56.1773 105.639 57.9828 109.204 Q59.8115 112.746 63.4226 112.746 Q67.0569 112.746 68.8624 109.204 Q70.6911 105.639 70.6911 98.5327 Q70.6911 91.4031 68.8624 87.8614 Q67.0569 84.2966 63.4226 84.2966 M63.4226 80.593 Q69.2328 80.593 72.2883 85.1994 Q75.367 89.7827 75.367 98.5327 Q75.367 107.259 72.2883 111.866 Q69.2328 116.449 63.4226 116.449 Q57.6125 116.449 54.5338 111.866 Q51.4782 107.259 51.4782 98.5327 Q51.4782 89.7827 54.5338 85.1994 Q57.6125 80.593 63.4226 80.593 Z\" fill=\"#000000\" fill-rule=\"nonzero\" fill-opacity=\"1\" /><path clip-path=\"url(#clip740)\" d=\"M83.5845 109.898 L88.4688 109.898 L88.4688 115.778 L83.5845 115.778 L83.5845 109.898 Z\" fill=\"#000000\" fill-rule=\"nonzero\" fill-opacity=\"1\" /><path clip-path=\"url(#clip740)\" d=\"M112.82 97.1438 Q116.177 97.8614 118.052 100.13 Q119.95 102.398 119.95 105.732 Q119.95 110.847 116.432 113.648 Q112.913 116.449 106.432 116.449 Q104.256 116.449 101.941 116.009 Q99.6493 115.593 97.1956 114.736 L97.1956 110.222 Q99.14 111.357 101.455 111.935 Q103.77 112.514 106.293 112.514 Q110.691 112.514 112.983 110.778 Q115.297 109.042 115.297 105.732 Q115.297 102.676 113.145 100.963 Q111.015 99.2271 107.196 99.2271 L103.168 99.2271 L103.168 95.3845 L107.381 95.3845 Q110.83 95.3845 112.658 94.0188 Q114.487 92.6299 114.487 90.0374 Q114.487 87.3753 112.589 85.9633 Q110.714 84.5281 107.196 84.5281 Q105.274 84.5281 103.075 84.9448 Q100.876 85.3615 98.2372 86.2411 L98.2372 82.0744 Q100.899 81.3337 103.214 80.9633 Q105.552 80.593 107.612 80.593 Q112.936 80.593 116.038 83.0235 Q119.14 85.4309 119.14 89.5512 Q119.14 92.4216 117.496 94.4123 Q115.853 96.3799 112.82 97.1438 Z\" fill=\"#000000\" fill-rule=\"nonzero\" fill-opacity=\"1\" /><path clip-path=\"url(#clip740)\" d=\"M129.626 111.843 L137.265 111.843 L137.265 85.4772 L128.955 87.1439 L128.955 82.8846 L137.219 81.218 L141.894 81.218 L141.894 111.843 L149.533 111.843 L149.533 115.778 L129.626 115.778 L129.626 111.843 Z\" fill=\"#000000\" fill-rule=\"nonzero\" fill-opacity=\"1\" /><path clip-path=\"url(#clip740)\" d=\"M168.978 84.2966 Q165.367 84.2966 163.538 87.8614 Q161.732 91.4031 161.732 98.5327 Q161.732 105.639 163.538 109.204 Q165.367 112.746 168.978 112.746 Q172.612 112.746 174.417 109.204 Q176.246 105.639 176.246 98.5327 Q176.246 91.4031 174.417 87.8614 Q172.612 84.2966 168.978 84.2966 M168.978 80.593 Q174.788 80.593 177.843 85.1994 Q180.922 89.7827 180.922 98.5327 Q180.922 107.259 177.843 111.866 Q174.788 116.449 168.978 116.449 Q163.167 116.449 160.089 111.866 Q157.033 107.259 157.033 98.5327 Q157.033 89.7827 160.089 85.1994 Q163.167 80.593 168.978 80.593 Z\" fill=\"#000000\" fill-rule=\"nonzero\" fill-opacity=\"1\" /><polyline clip-path=\"url(#clip742)\" style=\"stroke:#009af9; stroke-linecap:round; stroke-linejoin:round; stroke-width:4; stroke-opacity:1; fill:none\" points=\"277.37,244.298 287.445,268.957 297.519,293.359 307.594,317.506 317.669,341.397 327.744,365.033 337.818,388.413 347.893,411.537 357.968,434.405 368.042,457.018 378.117,479.375 388.192,501.477 398.266,523.322 408.341,544.913 418.416,566.247 428.49,587.326 438.565,608.149 448.64,628.716 458.715,649.028 468.789,669.084 478.864,688.884 488.939,708.429 499.013,727.718 509.088,746.751 519.163,765.529 529.237,784.051 539.312,802.317 549.387,820.328 559.461,838.083 569.536,855.582 579.611,872.826 589.685,889.814 599.76,906.546 609.835,923.023 619.91,939.244 629.984,955.209 640.059,970.918 650.134,986.372 660.208,1001.57 670.283,1016.51 680.358,1031.2 690.432,1045.63 700.507,1059.81 710.582,1073.73 720.656,1087.39 730.731,1100.8 740.806,1113.95 750.88,1126.85 760.955,1139.49 771.03,1151.88 781.105,1164.01 791.179,1175.88 801.254,1187.5 811.329,1198.86 821.403,1209.97 831.478,1220.82 841.553,1231.42 851.627,1241.76 861.702,1251.84 871.777,1261.67 881.851,1271.24 891.926,1280.56 902.001,1289.62 912.075,1298.43 922.15,1306.98 932.225,1315.28 942.3,1323.31 952.374,1331.1 962.449,1338.63 972.524,1345.9 982.598,1352.92 992.673,1359.68 1002.75,1366.18 1012.82,1372.43 1022.9,1378.42 1032.97,1384.16 1043.05,1389.65 1053.12,1394.87 1063.2,1399.84 1073.27,1404.56 1083.35,1409.02 1093.42,1413.22 1103.49,1417.17 1113.57,1420.86 1123.64,1424.3 1133.72,1427.48 1143.79,1430.41 1153.87,1433.08 1163.94,1435.49 1174.02,1437.65 1184.09,1439.55 1194.17,1441.2 1204.24,1442.59 1214.32,1443.73 1224.39,1444.61 1234.47,1445.23 1244.54,1445.6 1254.61,1445.72 1264.69,1445.57 1274.76,1445.18 1284.84,1444.52 1294.91,1443.61 1304.99,1442.45 1315.06,1441.03 1325.14,1439.35 1335.21,1437.42 1345.29,1435.23 1355.36,1432.79 1365.44,1430.09 1375.51,1427.13 1385.59,1423.92 1395.66,1420.46 1405.74,1416.73 1415.81,1412.76 1425.88,1408.52 1435.96,1404.03 1446.03,1399.29 1456.11,1394.29 1466.18,1389.03 1476.26,1383.52 1486.33,1377.75 1496.41,1371.73 1506.48,1365.45 1516.56,1358.92 1526.63,1352.13 1536.71,1345.08 1546.78,1337.78 1556.86,1330.22 1566.93,1322.41 1577,1314.34 1587.08,1306.02 1597.15,1297.44 1607.23,1288.6 1617.3,1279.51 1627.38,1270.17 1637.45,1260.56 1647.53,1250.7 1657.6,1240.59 1667.68,1230.22 1677.75,1219.6 1687.83,1208.72 1697.9,1197.58 1707.98,1186.19 1718.05,1174.54 1728.13,1162.64 1738.2,1150.48 1748.27,1138.06 1758.35,1125.39 1768.42,1112.46 1778.5,1099.28 1788.57,1085.84 1798.65,1072.15 1808.72,1058.2 1818.8,1044 1828.87,1029.54 1838.95,1014.82 1849.02,999.85 1859.1,984.623 1869.17,969.14 1879.25,953.401 1889.32,937.407 1899.39,921.156 1909.47,904.651 1919.54,887.889 1929.62,870.872 1939.69,853.599 1949.77,836.071 1959.84,818.287 1969.92,800.247 1979.99,781.952 1990.07,763.4 2000.14,744.594 2010.22,725.531 2020.29,706.213 2030.37,686.639 2040.44,666.81 2050.52,646.724 2060.59,626.383 2070.66,605.787 2080.74,584.935 2090.81,563.827 2100.89,542.463 2110.96,520.844 2121.04,498.969 2131.11,476.838 2141.19,454.452 2151.26,431.81 2161.34,408.912 2171.41,385.759 2181.49,362.35 2191.56,338.685 2201.64,314.765 2211.71,290.589 2221.78,266.157 2231.86,241.47 2241.93,216.527 2252.01,191.328 2262.08,165.874 2272.16,140.164 2282.23,114.198 2292.31,87.9763 \"/>\n",
       "<path clip-path=\"url(#clip740)\" d=\"M2015.55 1438.47 L2281.56 1438.47 L2281.56 1334.79 L2015.55 1334.79  Z\" fill=\"#ffffff\" fill-rule=\"evenodd\" fill-opacity=\"1\"/>\n",
       "<polyline clip-path=\"url(#clip740)\" style=\"stroke:#000000; stroke-linecap:round; stroke-linejoin:round; stroke-width:4; stroke-opacity:1; fill:none\" points=\"2015.55,1438.47 2281.56,1438.47 2281.56,1334.79 2015.55,1334.79 2015.55,1438.47 \"/>\n",
       "<polyline clip-path=\"url(#clip740)\" style=\"stroke:#009af9; stroke-linecap:round; stroke-linejoin:round; stroke-width:4; stroke-opacity:1; fill:none\" points=\"2039.28,1386.63 2181.67,1386.63 \"/>\n",
       "<path clip-path=\"url(#clip740)\" d=\"M2219.24 1406.32 Q2217.44 1410.95 2215.72 1412.36 Q2214.01 1413.78 2211.14 1413.78 L2207.74 1413.78 L2207.74 1410.21 L2210.24 1410.21 Q2212 1410.21 2212.97 1409.38 Q2213.94 1408.54 2215.12 1405.44 L2215.89 1403.5 L2205.4 1377.99 L2209.91 1377.99 L2218.02 1398.27 L2226.12 1377.99 L2230.63 1377.99 L2219.24 1406.32 Z\" fill=\"#000000\" fill-rule=\"nonzero\" fill-opacity=\"1\" /><path clip-path=\"url(#clip740)\" d=\"M2237.92 1399.98 L2245.56 1399.98 L2245.56 1373.61 L2237.25 1375.28 L2237.25 1371.02 L2245.52 1369.35 L2250.19 1369.35 L2250.19 1399.98 L2257.83 1399.98 L2257.83 1403.91 L2237.92 1403.91 L2237.92 1399.98 Z\" fill=\"#000000\" fill-rule=\"nonzero\" fill-opacity=\"1\" /></svg>\n"
      ],
      "text/html": [
       "<?xml version=\"1.0\" encoding=\"utf-8\"?>\n",
       "<svg xmlns=\"http://www.w3.org/2000/svg\" xmlns:xlink=\"http://www.w3.org/1999/xlink\" width=\"600\" height=\"400\" viewBox=\"0 0 2400 1600\">\n",
       "<defs>\n",
       "  <clipPath id=\"clip790\">\n",
       "    <rect x=\"0\" y=\"0\" width=\"2400\" height=\"1600\"/>\n",
       "  </clipPath>\n",
       "</defs>\n",
       "<path clip-path=\"url(#clip790)\" d=\"M0 1600 L2400 1600 L2400 0 L0 0  Z\" fill=\"#ffffff\" fill-rule=\"evenodd\" fill-opacity=\"1\"/>\n",
       "<defs>\n",
       "  <clipPath id=\"clip791\">\n",
       "    <rect x=\"480\" y=\"0\" width=\"1681\" height=\"1600\"/>\n",
       "  </clipPath>\n",
       "</defs>\n",
       "<path clip-path=\"url(#clip790)\" d=\"M216.922 1486.45 L2352.76 1486.45 L2352.76 47.2441 L216.922 47.2441  Z\" fill=\"#ffffff\" fill-rule=\"evenodd\" fill-opacity=\"1\"/>\n",
       "<defs>\n",
       "  <clipPath id=\"clip792\">\n",
       "    <rect x=\"216\" y=\"47\" width=\"2137\" height=\"1440\"/>\n",
       "  </clipPath>\n",
       "</defs>\n",
       "<polyline clip-path=\"url(#clip792)\" style=\"stroke:#000000; stroke-linecap:round; stroke-linejoin:round; stroke-width:2; stroke-opacity:0.1; fill:none\" points=\"277.37,1486.45 277.37,47.2441 \"/>\n",
       "<polyline clip-path=\"url(#clip792)\" style=\"stroke:#000000; stroke-linecap:round; stroke-linejoin:round; stroke-width:2; stroke-opacity:0.1; fill:none\" points=\"781.105,1486.45 781.105,47.2441 \"/>\n",
       "<polyline clip-path=\"url(#clip792)\" style=\"stroke:#000000; stroke-linecap:round; stroke-linejoin:round; stroke-width:2; stroke-opacity:0.1; fill:none\" points=\"1284.84,1486.45 1284.84,47.2441 \"/>\n",
       "<polyline clip-path=\"url(#clip792)\" style=\"stroke:#000000; stroke-linecap:round; stroke-linejoin:round; stroke-width:2; stroke-opacity:0.1; fill:none\" points=\"1788.57,1486.45 1788.57,47.2441 \"/>\n",
       "<polyline clip-path=\"url(#clip792)\" style=\"stroke:#000000; stroke-linecap:round; stroke-linejoin:round; stroke-width:2; stroke-opacity:0.1; fill:none\" points=\"2292.31,1486.45 2292.31,47.2441 \"/>\n",
       "<polyline clip-path=\"url(#clip790)\" style=\"stroke:#000000; stroke-linecap:round; stroke-linejoin:round; stroke-width:4; stroke-opacity:1; fill:none\" points=\"216.922,1486.45 2352.76,1486.45 \"/>\n",
       "<polyline clip-path=\"url(#clip790)\" style=\"stroke:#000000; stroke-linecap:round; stroke-linejoin:round; stroke-width:4; stroke-opacity:1; fill:none\" points=\"277.37,1486.45 277.37,1467.55 \"/>\n",
       "<polyline clip-path=\"url(#clip790)\" style=\"stroke:#000000; stroke-linecap:round; stroke-linejoin:round; stroke-width:4; stroke-opacity:1; fill:none\" points=\"781.105,1486.45 781.105,1467.55 \"/>\n",
       "<polyline clip-path=\"url(#clip790)\" style=\"stroke:#000000; stroke-linecap:round; stroke-linejoin:round; stroke-width:4; stroke-opacity:1; fill:none\" points=\"1284.84,1486.45 1284.84,1467.55 \"/>\n",
       "<polyline clip-path=\"url(#clip790)\" style=\"stroke:#000000; stroke-linecap:round; stroke-linejoin:round; stroke-width:4; stroke-opacity:1; fill:none\" points=\"1788.57,1486.45 1788.57,1467.55 \"/>\n",
       "<polyline clip-path=\"url(#clip790)\" style=\"stroke:#000000; stroke-linecap:round; stroke-linejoin:round; stroke-width:4; stroke-opacity:1; fill:none\" points=\"2292.31,1486.45 2292.31,1467.55 \"/>\n",
       "<path clip-path=\"url(#clip790)\" d=\"M239.674 1517.37 Q236.062 1517.37 234.234 1520.93 Q232.428 1524.47 232.428 1531.6 Q232.428 1538.71 234.234 1542.27 Q236.062 1545.82 239.674 1545.82 Q243.308 1545.82 245.113 1542.27 Q246.942 1538.71 246.942 1531.6 Q246.942 1524.47 245.113 1520.93 Q243.308 1517.37 239.674 1517.37 M239.674 1513.66 Q245.484 1513.66 248.539 1518.27 Q251.618 1522.85 251.618 1531.6 Q251.618 1540.33 248.539 1544.94 Q245.484 1549.52 239.674 1549.52 Q233.863 1549.52 230.785 1544.94 Q227.729 1540.33 227.729 1531.6 Q227.729 1522.85 230.785 1518.27 Q233.863 1513.66 239.674 1513.66 Z\" fill=\"#000000\" fill-rule=\"nonzero\" fill-opacity=\"1\" /><path clip-path=\"url(#clip790)\" d=\"M259.835 1542.97 L264.72 1542.97 L264.72 1548.85 L259.835 1548.85 L259.835 1542.97 Z\" fill=\"#000000\" fill-rule=\"nonzero\" fill-opacity=\"1\" /><path clip-path=\"url(#clip790)\" d=\"M284.905 1517.37 Q281.294 1517.37 279.465 1520.93 Q277.659 1524.47 277.659 1531.6 Q277.659 1538.71 279.465 1542.27 Q281.294 1545.82 284.905 1545.82 Q288.539 1545.82 290.345 1542.27 Q292.173 1538.71 292.173 1531.6 Q292.173 1524.47 290.345 1520.93 Q288.539 1517.37 284.905 1517.37 M284.905 1513.66 Q290.715 1513.66 293.77 1518.27 Q296.849 1522.85 296.849 1531.6 Q296.849 1540.33 293.77 1544.94 Q290.715 1549.52 284.905 1549.52 Q279.095 1549.52 276.016 1544.94 Q272.96 1540.33 272.96 1531.6 Q272.96 1522.85 276.016 1518.27 Q279.095 1513.66 284.905 1513.66 Z\" fill=\"#000000\" fill-rule=\"nonzero\" fill-opacity=\"1\" /><path clip-path=\"url(#clip790)\" d=\"M315.067 1517.37 Q311.456 1517.37 309.627 1520.93 Q307.821 1524.47 307.821 1531.6 Q307.821 1538.71 309.627 1542.27 Q311.456 1545.82 315.067 1545.82 Q318.701 1545.82 320.506 1542.27 Q322.335 1538.71 322.335 1531.6 Q322.335 1524.47 320.506 1520.93 Q318.701 1517.37 315.067 1517.37 M315.067 1513.66 Q320.877 1513.66 323.932 1518.27 Q327.011 1522.85 327.011 1531.6 Q327.011 1540.33 323.932 1544.94 Q320.877 1549.52 315.067 1549.52 Q309.257 1549.52 306.178 1544.94 Q303.122 1540.33 303.122 1531.6 Q303.122 1522.85 306.178 1518.27 Q309.257 1513.66 315.067 1513.66 Z\" fill=\"#000000\" fill-rule=\"nonzero\" fill-opacity=\"1\" /><path clip-path=\"url(#clip790)\" d=\"M743.906 1517.37 Q740.295 1517.37 738.466 1520.93 Q736.66 1524.47 736.66 1531.6 Q736.66 1538.71 738.466 1542.27 Q740.295 1545.82 743.906 1545.82 Q747.54 1545.82 749.345 1542.27 Q751.174 1538.71 751.174 1531.6 Q751.174 1524.47 749.345 1520.93 Q747.54 1517.37 743.906 1517.37 M743.906 1513.66 Q749.716 1513.66 752.771 1518.27 Q755.85 1522.85 755.85 1531.6 Q755.85 1540.33 752.771 1544.94 Q749.716 1549.52 743.906 1549.52 Q738.096 1549.52 735.017 1544.94 Q731.961 1540.33 731.961 1531.6 Q731.961 1522.85 735.017 1518.27 Q738.096 1513.66 743.906 1513.66 Z\" fill=\"#000000\" fill-rule=\"nonzero\" fill-opacity=\"1\" /><path clip-path=\"url(#clip790)\" d=\"M764.068 1542.97 L768.952 1542.97 L768.952 1548.85 L764.068 1548.85 L764.068 1542.97 Z\" fill=\"#000000\" fill-rule=\"nonzero\" fill-opacity=\"1\" /><path clip-path=\"url(#clip790)\" d=\"M783.165 1544.91 L799.484 1544.91 L799.484 1548.85 L777.54 1548.85 L777.54 1544.91 Q780.202 1542.16 784.785 1537.53 Q789.392 1532.88 790.572 1531.53 Q792.817 1529.01 793.697 1527.27 Q794.6 1525.51 794.6 1523.82 Q794.6 1521.07 792.655 1519.33 Q790.734 1517.6 787.632 1517.6 Q785.433 1517.6 782.98 1518.36 Q780.549 1519.13 777.771 1520.68 L777.771 1515.95 Q780.595 1514.82 783.049 1514.24 Q785.503 1513.66 787.54 1513.66 Q792.91 1513.66 796.104 1516.35 Q799.299 1519.03 799.299 1523.52 Q799.299 1525.65 798.489 1527.57 Q797.702 1529.47 795.595 1532.07 Q795.016 1532.74 791.915 1535.95 Q788.813 1539.15 783.165 1544.91 Z\" fill=\"#000000\" fill-rule=\"nonzero\" fill-opacity=\"1\" /><path clip-path=\"url(#clip790)\" d=\"M809.345 1514.29 L827.702 1514.29 L827.702 1518.22 L813.628 1518.22 L813.628 1526.7 Q814.646 1526.35 815.665 1526.19 Q816.683 1526 817.702 1526 Q823.489 1526 826.868 1529.17 Q830.248 1532.34 830.248 1537.76 Q830.248 1543.34 826.776 1546.44 Q823.303 1549.52 816.984 1549.52 Q814.808 1549.52 812.54 1549.15 Q810.294 1548.78 807.887 1548.04 L807.887 1543.34 Q809.97 1544.47 812.192 1545.03 Q814.415 1545.58 816.891 1545.58 Q820.896 1545.58 823.234 1543.48 Q825.572 1541.37 825.572 1537.76 Q825.572 1534.15 823.234 1532.04 Q820.896 1529.94 816.891 1529.94 Q815.016 1529.94 813.141 1530.35 Q811.29 1530.77 809.345 1531.65 L809.345 1514.29 Z\" fill=\"#000000\" fill-rule=\"nonzero\" fill-opacity=\"1\" /><path clip-path=\"url(#clip790)\" d=\"M1247.14 1517.37 Q1243.53 1517.37 1241.7 1520.93 Q1239.9 1524.47 1239.9 1531.6 Q1239.9 1538.71 1241.7 1542.27 Q1243.53 1545.82 1247.14 1545.82 Q1250.78 1545.82 1252.58 1542.27 Q1254.41 1538.71 1254.41 1531.6 Q1254.41 1524.47 1252.58 1520.93 Q1250.78 1517.37 1247.14 1517.37 M1247.14 1513.66 Q1252.95 1513.66 1256.01 1518.27 Q1259.09 1522.85 1259.09 1531.6 Q1259.09 1540.33 1256.01 1544.94 Q1252.95 1549.52 1247.14 1549.52 Q1241.33 1549.52 1238.25 1544.94 Q1235.2 1540.33 1235.2 1531.6 Q1235.2 1522.85 1238.25 1518.27 Q1241.33 1513.66 1247.14 1513.66 Z\" fill=\"#000000\" fill-rule=\"nonzero\" fill-opacity=\"1\" /><path clip-path=\"url(#clip790)\" d=\"M1267.3 1542.97 L1272.19 1542.97 L1272.19 1548.85 L1267.3 1548.85 L1267.3 1542.97 Z\" fill=\"#000000\" fill-rule=\"nonzero\" fill-opacity=\"1\" /><path clip-path=\"url(#clip790)\" d=\"M1282.42 1514.29 L1300.78 1514.29 L1300.78 1518.22 L1286.7 1518.22 L1286.7 1526.7 Q1287.72 1526.35 1288.74 1526.19 Q1289.76 1526 1290.78 1526 Q1296.56 1526 1299.94 1529.17 Q1303.32 1532.34 1303.32 1537.76 Q1303.32 1543.34 1299.85 1546.44 Q1296.38 1549.52 1290.06 1549.52 Q1287.88 1549.52 1285.61 1549.15 Q1283.37 1548.78 1280.96 1548.04 L1280.96 1543.34 Q1283.04 1544.47 1285.27 1545.03 Q1287.49 1545.58 1289.97 1545.58 Q1293.97 1545.58 1296.31 1543.48 Q1298.65 1541.37 1298.65 1537.76 Q1298.65 1534.15 1296.31 1532.04 Q1293.97 1529.94 1289.97 1529.94 Q1288.09 1529.94 1286.22 1530.35 Q1284.36 1530.77 1282.42 1531.65 L1282.42 1514.29 Z\" fill=\"#000000\" fill-rule=\"nonzero\" fill-opacity=\"1\" /><path clip-path=\"url(#clip790)\" d=\"M1322.54 1517.37 Q1318.92 1517.37 1317.1 1520.93 Q1315.29 1524.47 1315.29 1531.6 Q1315.29 1538.71 1317.1 1542.27 Q1318.92 1545.82 1322.54 1545.82 Q1326.17 1545.82 1327.98 1542.27 Q1329.8 1538.71 1329.8 1531.6 Q1329.8 1524.47 1327.98 1520.93 Q1326.17 1517.37 1322.54 1517.37 M1322.54 1513.66 Q1328.35 1513.66 1331.4 1518.27 Q1334.48 1522.85 1334.48 1531.6 Q1334.48 1540.33 1331.4 1544.94 Q1328.35 1549.52 1322.54 1549.52 Q1316.73 1549.52 1313.65 1544.94 Q1310.59 1540.33 1310.59 1531.6 Q1310.59 1522.85 1313.65 1518.27 Q1316.73 1513.66 1322.54 1513.66 Z\" fill=\"#000000\" fill-rule=\"nonzero\" fill-opacity=\"1\" /><path clip-path=\"url(#clip790)\" d=\"M1751.37 1517.37 Q1747.76 1517.37 1745.93 1520.93 Q1744.13 1524.47 1744.13 1531.6 Q1744.13 1538.71 1745.93 1542.27 Q1747.76 1545.82 1751.37 1545.82 Q1755.01 1545.82 1756.81 1542.27 Q1758.64 1538.71 1758.64 1531.6 Q1758.64 1524.47 1756.81 1520.93 Q1755.01 1517.37 1751.37 1517.37 M1751.37 1513.66 Q1757.18 1513.66 1760.24 1518.27 Q1763.32 1522.85 1763.32 1531.6 Q1763.32 1540.33 1760.24 1544.94 Q1757.18 1549.52 1751.37 1549.52 Q1745.56 1549.52 1742.49 1544.94 Q1739.43 1540.33 1739.43 1531.6 Q1739.43 1522.85 1742.49 1518.27 Q1745.56 1513.66 1751.37 1513.66 Z\" fill=\"#000000\" fill-rule=\"nonzero\" fill-opacity=\"1\" /><path clip-path=\"url(#clip790)\" d=\"M1771.54 1542.97 L1776.42 1542.97 L1776.42 1548.85 L1771.54 1548.85 L1771.54 1542.97 Z\" fill=\"#000000\" fill-rule=\"nonzero\" fill-opacity=\"1\" /><path clip-path=\"url(#clip790)\" d=\"M1785.43 1514.29 L1807.65 1514.29 L1807.65 1516.28 L1795.1 1548.85 L1790.22 1548.85 L1802.02 1518.22 L1785.43 1518.22 L1785.43 1514.29 Z\" fill=\"#000000\" fill-rule=\"nonzero\" fill-opacity=\"1\" /><path clip-path=\"url(#clip790)\" d=\"M1816.81 1514.29 L1835.17 1514.29 L1835.17 1518.22 L1821.1 1518.22 L1821.1 1526.7 Q1822.11 1526.35 1823.13 1526.19 Q1824.15 1526 1825.17 1526 Q1830.96 1526 1834.34 1529.17 Q1837.72 1532.34 1837.72 1537.76 Q1837.72 1543.34 1834.24 1546.44 Q1830.77 1549.52 1824.45 1549.52 Q1822.28 1549.52 1820.01 1549.15 Q1817.76 1548.78 1815.36 1548.04 L1815.36 1543.34 Q1817.44 1544.47 1819.66 1545.03 Q1821.88 1545.58 1824.36 1545.58 Q1828.36 1545.58 1830.7 1543.48 Q1833.04 1541.37 1833.04 1537.76 Q1833.04 1534.15 1830.7 1532.04 Q1828.36 1529.94 1824.36 1529.94 Q1822.49 1529.94 1820.61 1530.35 Q1818.76 1530.77 1816.81 1531.65 L1816.81 1514.29 Z\" fill=\"#000000\" fill-rule=\"nonzero\" fill-opacity=\"1\" /><path clip-path=\"url(#clip790)\" d=\"M2244.38 1544.91 L2252.02 1544.91 L2252.02 1518.55 L2243.71 1520.21 L2243.71 1515.95 L2251.97 1514.29 L2256.65 1514.29 L2256.65 1544.91 L2264.29 1544.91 L2264.29 1548.85 L2244.38 1548.85 L2244.38 1544.91 Z\" fill=\"#000000\" fill-rule=\"nonzero\" fill-opacity=\"1\" /><path clip-path=\"url(#clip790)\" d=\"M2273.73 1542.97 L2278.62 1542.97 L2278.62 1548.85 L2273.73 1548.85 L2273.73 1542.97 Z\" fill=\"#000000\" fill-rule=\"nonzero\" fill-opacity=\"1\" /><path clip-path=\"url(#clip790)\" d=\"M2298.8 1517.37 Q2295.19 1517.37 2293.36 1520.93 Q2291.56 1524.47 2291.56 1531.6 Q2291.56 1538.71 2293.36 1542.27 Q2295.19 1545.82 2298.8 1545.82 Q2302.44 1545.82 2304.24 1542.27 Q2306.07 1538.71 2306.07 1531.6 Q2306.07 1524.47 2304.24 1520.93 Q2302.44 1517.37 2298.8 1517.37 M2298.8 1513.66 Q2304.61 1513.66 2307.67 1518.27 Q2310.75 1522.85 2310.75 1531.6 Q2310.75 1540.33 2307.67 1544.94 Q2304.61 1549.52 2298.8 1549.52 Q2292.99 1549.52 2289.91 1544.94 Q2286.86 1540.33 2286.86 1531.6 Q2286.86 1522.85 2289.91 1518.27 Q2292.99 1513.66 2298.8 1513.66 Z\" fill=\"#000000\" fill-rule=\"nonzero\" fill-opacity=\"1\" /><path clip-path=\"url(#clip790)\" d=\"M2328.96 1517.37 Q2325.35 1517.37 2323.52 1520.93 Q2321.72 1524.47 2321.72 1531.6 Q2321.72 1538.71 2323.52 1542.27 Q2325.35 1545.82 2328.96 1545.82 Q2332.6 1545.82 2334.4 1542.27 Q2336.23 1538.71 2336.23 1531.6 Q2336.23 1524.47 2334.4 1520.93 Q2332.6 1517.37 2328.96 1517.37 M2328.96 1513.66 Q2334.77 1513.66 2337.83 1518.27 Q2340.91 1522.85 2340.91 1531.6 Q2340.91 1540.33 2337.83 1544.94 Q2334.77 1549.52 2328.96 1549.52 Q2323.15 1549.52 2320.07 1544.94 Q2317.02 1540.33 2317.02 1531.6 Q2317.02 1522.85 2320.07 1518.27 Q2323.15 1513.66 2328.96 1513.66 Z\" fill=\"#000000\" fill-rule=\"nonzero\" fill-opacity=\"1\" /><polyline clip-path=\"url(#clip792)\" style=\"stroke:#000000; stroke-linecap:round; stroke-linejoin:round; stroke-width:2; stroke-opacity:0.1; fill:none\" points=\"216.922,1300.98 2352.76,1300.98 \"/>\n",
       "<polyline clip-path=\"url(#clip792)\" style=\"stroke:#000000; stroke-linecap:round; stroke-linejoin:round; stroke-width:2; stroke-opacity:0.1; fill:none\" points=\"216.922,1000.36 2352.76,1000.36 \"/>\n",
       "<polyline clip-path=\"url(#clip792)\" style=\"stroke:#000000; stroke-linecap:round; stroke-linejoin:round; stroke-width:2; stroke-opacity:0.1; fill:none\" points=\"216.922,699.737 2352.76,699.737 \"/>\n",
       "<polyline clip-path=\"url(#clip792)\" style=\"stroke:#000000; stroke-linecap:round; stroke-linejoin:round; stroke-width:2; stroke-opacity:0.1; fill:none\" points=\"216.922,399.117 2352.76,399.117 \"/>\n",
       "<polyline clip-path=\"url(#clip792)\" style=\"stroke:#000000; stroke-linecap:round; stroke-linejoin:round; stroke-width:2; stroke-opacity:0.1; fill:none\" points=\"216.922,98.498 2352.76,98.498 \"/>\n",
       "<polyline clip-path=\"url(#clip790)\" style=\"stroke:#000000; stroke-linecap:round; stroke-linejoin:round; stroke-width:4; stroke-opacity:1; fill:none\" points=\"216.922,1486.45 216.922,47.2441 \"/>\n",
       "<polyline clip-path=\"url(#clip790)\" style=\"stroke:#000000; stroke-linecap:round; stroke-linejoin:round; stroke-width:4; stroke-opacity:1; fill:none\" points=\"216.922,1300.98 235.82,1300.98 \"/>\n",
       "<polyline clip-path=\"url(#clip790)\" style=\"stroke:#000000; stroke-linecap:round; stroke-linejoin:round; stroke-width:4; stroke-opacity:1; fill:none\" points=\"216.922,1000.36 235.82,1000.36 \"/>\n",
       "<polyline clip-path=\"url(#clip790)\" style=\"stroke:#000000; stroke-linecap:round; stroke-linejoin:round; stroke-width:4; stroke-opacity:1; fill:none\" points=\"216.922,699.737 235.82,699.737 \"/>\n",
       "<polyline clip-path=\"url(#clip790)\" style=\"stroke:#000000; stroke-linecap:round; stroke-linejoin:round; stroke-width:4; stroke-opacity:1; fill:none\" points=\"216.922,399.117 235.82,399.117 \"/>\n",
       "<polyline clip-path=\"url(#clip790)\" style=\"stroke:#000000; stroke-linecap:round; stroke-linejoin:round; stroke-width:4; stroke-opacity:1; fill:none\" points=\"216.922,98.498 235.82,98.498 \"/>\n",
       "<path clip-path=\"url(#clip790)\" d=\"M65.0198 1286.77 Q61.4087 1286.77 59.58 1290.34 Q57.7745 1293.88 57.7745 1301.01 Q57.7745 1308.12 59.58 1311.68 Q61.4087 1315.22 65.0198 1315.22 Q68.6541 1315.22 70.4596 1311.68 Q72.2883 1308.12 72.2883 1301.01 Q72.2883 1293.88 70.4596 1290.34 Q68.6541 1286.77 65.0198 1286.77 M65.0198 1283.07 Q70.83 1283.07 73.8855 1287.68 Q76.9642 1292.26 76.9642 1301.01 Q76.9642 1309.74 73.8855 1314.34 Q70.83 1318.93 65.0198 1318.93 Q59.2097 1318.93 56.131 1314.34 Q53.0754 1309.74 53.0754 1301.01 Q53.0754 1292.26 56.131 1287.68 Q59.2097 1283.07 65.0198 1283.07 Z\" fill=\"#000000\" fill-rule=\"nonzero\" fill-opacity=\"1\" /><path clip-path=\"url(#clip790)\" d=\"M85.1818 1312.38 L90.066 1312.38 L90.066 1318.26 L85.1818 1318.26 L85.1818 1312.38 Z\" fill=\"#000000\" fill-rule=\"nonzero\" fill-opacity=\"1\" /><path clip-path=\"url(#clip790)\" d=\"M114.418 1299.62 Q117.774 1300.34 119.649 1302.61 Q121.547 1304.88 121.547 1308.21 Q121.547 1313.33 118.029 1316.13 Q114.51 1318.93 108.029 1318.93 Q105.853 1318.93 103.538 1318.49 Q101.246 1318.07 98.7928 1317.21 L98.7928 1312.7 Q100.737 1313.83 103.052 1314.41 Q105.367 1314.99 107.89 1314.99 Q112.288 1314.99 114.58 1313.26 Q116.895 1311.52 116.895 1308.21 Q116.895 1305.15 114.742 1303.44 Q112.612 1301.7 108.793 1301.7 L104.765 1301.7 L104.765 1297.86 L108.978 1297.86 Q112.427 1297.86 114.256 1296.5 Q116.084 1295.11 116.084 1292.52 Q116.084 1289.85 114.186 1288.44 Q112.311 1287.01 108.793 1287.01 Q106.871 1287.01 104.672 1287.42 Q102.473 1287.84 99.8345 1288.72 L99.8345 1284.55 Q102.496 1283.81 104.811 1283.44 Q107.149 1283.07 109.209 1283.07 Q114.533 1283.07 117.635 1285.5 Q120.737 1287.91 120.737 1292.03 Q120.737 1294.9 119.094 1296.89 Q117.45 1298.86 114.418 1299.62 Z\" fill=\"#000000\" fill-rule=\"nonzero\" fill-opacity=\"1\" /><path clip-path=\"url(#clip790)\" d=\"M140.413 1286.77 Q136.802 1286.77 134.973 1290.34 Q133.168 1293.88 133.168 1301.01 Q133.168 1308.12 134.973 1311.68 Q136.802 1315.22 140.413 1315.22 Q144.047 1315.22 145.853 1311.68 Q147.681 1308.12 147.681 1301.01 Q147.681 1293.88 145.853 1290.34 Q144.047 1286.77 140.413 1286.77 M140.413 1283.07 Q146.223 1283.07 149.279 1287.68 Q152.357 1292.26 152.357 1301.01 Q152.357 1309.74 149.279 1314.34 Q146.223 1318.93 140.413 1318.93 Q134.603 1318.93 131.524 1314.34 Q128.469 1309.74 128.469 1301.01 Q128.469 1292.26 131.524 1287.68 Q134.603 1283.07 140.413 1283.07 Z\" fill=\"#000000\" fill-rule=\"nonzero\" fill-opacity=\"1\" /><path clip-path=\"url(#clip790)\" d=\"M164.603 1314.32 L180.922 1314.32 L180.922 1318.26 L158.978 1318.26 L158.978 1314.32 Q161.64 1311.57 166.223 1306.94 Q170.829 1302.28 172.01 1300.94 Q174.255 1298.42 175.135 1296.68 Q176.038 1294.92 176.038 1293.23 Q176.038 1290.48 174.093 1288.74 Q172.172 1287.01 169.07 1287.01 Q166.871 1287.01 164.417 1287.77 Q161.987 1288.53 159.209 1290.08 L159.209 1285.36 Q162.033 1284.23 164.487 1283.65 Q166.941 1283.07 168.978 1283.07 Q174.348 1283.07 177.542 1285.76 Q180.737 1288.44 180.737 1292.93 Q180.737 1295.06 179.927 1296.98 Q179.14 1298.88 177.033 1301.47 Q176.454 1302.14 173.353 1305.36 Q170.251 1308.56 164.603 1314.32 Z\" fill=\"#000000\" fill-rule=\"nonzero\" fill-opacity=\"1\" /><path clip-path=\"url(#clip790)\" d=\"M62.9365 986.155 Q59.3254 986.155 57.4967 989.72 Q55.6912 993.261 55.6912 1000.39 Q55.6912 1007.5 57.4967 1011.06 Q59.3254 1014.6 62.9365 1014.6 Q66.5707 1014.6 68.3763 1011.06 Q70.205 1007.5 70.205 1000.39 Q70.205 993.261 68.3763 989.72 Q66.5707 986.155 62.9365 986.155 M62.9365 982.451 Q68.7467 982.451 71.8022 987.058 Q74.8809 991.641 74.8809 1000.39 Q74.8809 1009.12 71.8022 1013.72 Q68.7467 1018.31 62.9365 1018.31 Q57.1264 1018.31 54.0477 1013.72 Q50.9921 1009.12 50.9921 1000.39 Q50.9921 991.641 54.0477 987.058 Q57.1264 982.451 62.9365 982.451 Z\" fill=\"#000000\" fill-rule=\"nonzero\" fill-opacity=\"1\" /><path clip-path=\"url(#clip790)\" d=\"M83.0984 1011.76 L87.9827 1011.76 L87.9827 1017.64 L83.0984 1017.64 L83.0984 1011.76 Z\" fill=\"#000000\" fill-rule=\"nonzero\" fill-opacity=\"1\" /><path clip-path=\"url(#clip790)\" d=\"M112.334 999.002 Q115.691 999.72 117.566 1001.99 Q119.464 1004.26 119.464 1007.59 Q119.464 1012.71 115.945 1015.51 Q112.427 1018.31 105.946 1018.31 Q103.77 1018.31 101.455 1017.87 Q99.1632 1017.45 96.7095 1016.59 L96.7095 1012.08 Q98.6539 1013.21 100.969 1013.79 Q103.284 1014.37 105.807 1014.37 Q110.205 1014.37 112.496 1012.64 Q114.811 1010.9 114.811 1007.59 Q114.811 1004.53 112.658 1002.82 Q110.529 1001.09 106.709 1001.09 L102.682 1001.09 L102.682 997.243 L106.895 997.243 Q110.344 997.243 112.172 995.877 Q114.001 994.488 114.001 991.896 Q114.001 989.234 112.103 987.822 Q110.228 986.386 106.709 986.386 Q104.788 986.386 102.589 986.803 Q100.39 987.22 97.7511 988.099 L97.7511 983.933 Q100.413 983.192 102.728 982.822 Q105.066 982.451 107.126 982.451 Q112.45 982.451 115.552 984.882 Q118.654 987.289 118.654 991.41 Q118.654 994.28 117.01 996.271 Q115.367 998.238 112.334 999.002 Z\" fill=\"#000000\" fill-rule=\"nonzero\" fill-opacity=\"1\" /><path clip-path=\"url(#clip790)\" d=\"M138.33 986.155 Q134.719 986.155 132.89 989.72 Q131.084 993.261 131.084 1000.39 Q131.084 1007.5 132.89 1011.06 Q134.719 1014.6 138.33 1014.6 Q141.964 1014.6 143.769 1011.06 Q145.598 1007.5 145.598 1000.39 Q145.598 993.261 143.769 989.72 Q141.964 986.155 138.33 986.155 M138.33 982.451 Q144.14 982.451 147.195 987.058 Q150.274 991.641 150.274 1000.39 Q150.274 1009.12 147.195 1013.72 Q144.14 1018.31 138.33 1018.31 Q132.519 1018.31 129.441 1013.72 Q126.385 1009.12 126.385 1000.39 Q126.385 991.641 129.441 987.058 Q132.519 982.451 138.33 982.451 Z\" fill=\"#000000\" fill-rule=\"nonzero\" fill-opacity=\"1\" /><path clip-path=\"url(#clip790)\" d=\"M171.339 987.15 L159.533 1005.6 L171.339 1005.6 L171.339 987.15 M170.112 983.076 L175.991 983.076 L175.991 1005.6 L180.922 1005.6 L180.922 1009.49 L175.991 1009.49 L175.991 1017.64 L171.339 1017.64 L171.339 1009.49 L155.737 1009.49 L155.737 1004.97 L170.112 983.076 Z\" fill=\"#000000\" fill-rule=\"nonzero\" fill-opacity=\"1\" /><path clip-path=\"url(#clip790)\" d=\"M63.2606 685.535 Q59.6495 685.535 57.8208 689.1 Q56.0152 692.642 56.0152 699.772 Q56.0152 706.878 57.8208 710.443 Q59.6495 713.984 63.2606 713.984 Q66.8948 713.984 68.7004 710.443 Q70.5291 706.878 70.5291 699.772 Q70.5291 692.642 68.7004 689.1 Q66.8948 685.535 63.2606 685.535 M63.2606 681.832 Q69.0707 681.832 72.1263 686.438 Q75.205 691.022 75.205 699.772 Q75.205 708.498 72.1263 713.105 Q69.0707 717.688 63.2606 717.688 Q57.4504 717.688 54.3717 713.105 Q51.3162 708.498 51.3162 699.772 Q51.3162 691.022 54.3717 686.438 Q57.4504 681.832 63.2606 681.832 Z\" fill=\"#000000\" fill-rule=\"nonzero\" fill-opacity=\"1\" /><path clip-path=\"url(#clip790)\" d=\"M83.4225 711.137 L88.3067 711.137 L88.3067 717.017 L83.4225 717.017 L83.4225 711.137 Z\" fill=\"#000000\" fill-rule=\"nonzero\" fill-opacity=\"1\" /><path clip-path=\"url(#clip790)\" d=\"M112.658 698.383 Q116.015 699.1 117.89 701.369 Q119.788 703.637 119.788 706.971 Q119.788 712.086 116.27 714.887 Q112.751 717.688 106.27 717.688 Q104.094 717.688 101.779 717.248 Q99.4872 716.832 97.0335 715.975 L97.0335 711.461 Q98.978 712.596 101.293 713.174 Q103.608 713.753 106.131 713.753 Q110.529 713.753 112.82 712.017 Q115.135 710.281 115.135 706.971 Q115.135 703.915 112.983 702.202 Q110.853 700.466 107.033 700.466 L103.006 700.466 L103.006 696.623 L107.219 696.623 Q110.668 696.623 112.496 695.258 Q114.325 693.869 114.325 691.276 Q114.325 688.614 112.427 687.202 Q110.552 685.767 107.033 685.767 Q105.112 685.767 102.913 686.184 Q100.714 686.6 98.0752 687.48 L98.0752 683.313 Q100.737 682.573 103.052 682.202 Q105.39 681.832 107.45 681.832 Q112.774 681.832 115.876 684.262 Q118.978 686.67 118.978 690.79 Q118.978 693.66 117.334 695.651 Q115.691 697.619 112.658 698.383 Z\" fill=\"#000000\" fill-rule=\"nonzero\" fill-opacity=\"1\" /><path clip-path=\"url(#clip790)\" d=\"M138.654 685.535 Q135.043 685.535 133.214 689.1 Q131.408 692.642 131.408 699.772 Q131.408 706.878 133.214 710.443 Q135.043 713.984 138.654 713.984 Q142.288 713.984 144.093 710.443 Q145.922 706.878 145.922 699.772 Q145.922 692.642 144.093 689.1 Q142.288 685.535 138.654 685.535 M138.654 681.832 Q144.464 681.832 147.519 686.438 Q150.598 691.022 150.598 699.772 Q150.598 708.498 147.519 713.105 Q144.464 717.688 138.654 717.688 Q132.844 717.688 129.765 713.105 Q126.709 708.498 126.709 699.772 Q126.709 691.022 129.765 686.438 Q132.844 681.832 138.654 681.832 Z\" fill=\"#000000\" fill-rule=\"nonzero\" fill-opacity=\"1\" /><path clip-path=\"url(#clip790)\" d=\"M169.394 697.873 Q166.246 697.873 164.394 700.026 Q162.566 702.179 162.566 705.929 Q162.566 709.656 164.394 711.832 Q166.246 713.984 169.394 713.984 Q172.542 713.984 174.371 711.832 Q176.223 709.656 176.223 705.929 Q176.223 702.179 174.371 700.026 Q172.542 697.873 169.394 697.873 M178.677 683.221 L178.677 687.48 Q176.917 686.647 175.112 686.207 Q173.329 685.767 171.57 685.767 Q166.941 685.767 164.487 688.892 Q162.056 692.017 161.709 698.336 Q163.075 696.322 165.135 695.258 Q167.195 694.17 169.672 694.17 Q174.88 694.17 177.89 697.341 Q180.922 700.489 180.922 705.929 Q180.922 711.253 177.774 714.471 Q174.626 717.688 169.394 717.688 Q163.399 717.688 160.228 713.105 Q157.056 708.498 157.056 699.772 Q157.056 691.577 160.945 686.716 Q164.834 681.832 171.385 681.832 Q173.144 681.832 174.927 682.179 Q176.732 682.526 178.677 683.221 Z\" fill=\"#000000\" fill-rule=\"nonzero\" fill-opacity=\"1\" /><path clip-path=\"url(#clip790)\" d=\"M63.5152 384.916 Q59.9041 384.916 58.0754 388.481 Q56.2699 392.023 56.2699 399.152 Q56.2699 406.259 58.0754 409.823 Q59.9041 413.365 63.5152 413.365 Q67.1494 413.365 68.955 409.823 Q70.7837 406.259 70.7837 399.152 Q70.7837 392.023 68.955 388.481 Q67.1494 384.916 63.5152 384.916 M63.5152 381.212 Q69.3254 381.212 72.3809 385.819 Q75.4596 390.402 75.4596 399.152 Q75.4596 407.879 72.3809 412.485 Q69.3254 417.069 63.5152 417.069 Q57.7051 417.069 54.6264 412.485 Q51.5708 407.879 51.5708 399.152 Q51.5708 390.402 54.6264 385.819 Q57.7051 381.212 63.5152 381.212 Z\" fill=\"#000000\" fill-rule=\"nonzero\" fill-opacity=\"1\" /><path clip-path=\"url(#clip790)\" d=\"M83.6771 410.518 L88.5614 410.518 L88.5614 416.397 L83.6771 416.397 L83.6771 410.518 Z\" fill=\"#000000\" fill-rule=\"nonzero\" fill-opacity=\"1\" /><path clip-path=\"url(#clip790)\" d=\"M112.913 397.763 Q116.27 398.481 118.145 400.749 Q120.043 403.018 120.043 406.351 Q120.043 411.467 116.524 414.268 Q113.006 417.069 106.524 417.069 Q104.348 417.069 102.034 416.629 Q99.7419 416.212 97.2882 415.356 L97.2882 410.842 Q99.2326 411.976 101.547 412.555 Q103.862 413.134 106.385 413.134 Q110.783 413.134 113.075 411.397 Q115.39 409.661 115.39 406.351 Q115.39 403.296 113.237 401.583 Q111.108 399.847 107.288 399.847 L103.26 399.847 L103.26 396.004 L107.473 396.004 Q110.922 396.004 112.751 394.638 Q114.58 393.249 114.58 390.657 Q114.58 387.995 112.682 386.583 Q110.807 385.148 107.288 385.148 Q105.367 385.148 103.168 385.564 Q100.969 385.981 98.3298 386.86 L98.3298 382.694 Q100.992 381.953 103.307 381.583 Q105.645 381.212 107.705 381.212 Q113.029 381.212 116.131 383.643 Q119.233 386.05 119.233 390.171 Q119.233 393.041 117.589 395.032 Q115.945 396.999 112.913 397.763 Z\" fill=\"#000000\" fill-rule=\"nonzero\" fill-opacity=\"1\" /><path clip-path=\"url(#clip790)\" d=\"M138.908 384.916 Q135.297 384.916 133.469 388.481 Q131.663 392.023 131.663 399.152 Q131.663 406.259 133.469 409.823 Q135.297 413.365 138.908 413.365 Q142.543 413.365 144.348 409.823 Q146.177 406.259 146.177 399.152 Q146.177 392.023 144.348 388.481 Q142.543 384.916 138.908 384.916 M138.908 381.212 Q144.718 381.212 147.774 385.819 Q150.853 390.402 150.853 399.152 Q150.853 407.879 147.774 412.485 Q144.718 417.069 138.908 417.069 Q133.098 417.069 130.019 412.485 Q126.964 407.879 126.964 399.152 Q126.964 390.402 130.019 385.819 Q133.098 381.212 138.908 381.212 Z\" fill=\"#000000\" fill-rule=\"nonzero\" fill-opacity=\"1\" /><path clip-path=\"url(#clip790)\" d=\"M169.07 399.985 Q165.737 399.985 163.816 401.768 Q161.917 403.55 161.917 406.675 Q161.917 409.8 163.816 411.583 Q165.737 413.365 169.07 413.365 Q172.404 413.365 174.325 411.583 Q176.246 409.777 176.246 406.675 Q176.246 403.55 174.325 401.768 Q172.427 399.985 169.07 399.985 M164.394 397.995 Q161.385 397.254 159.695 395.194 Q158.029 393.134 158.029 390.171 Q158.029 386.027 160.968 383.62 Q163.931 381.212 169.07 381.212 Q174.232 381.212 177.172 383.62 Q180.112 386.027 180.112 390.171 Q180.112 393.134 178.422 395.194 Q176.755 397.254 173.769 397.995 Q177.149 398.782 179.024 401.073 Q180.922 403.365 180.922 406.675 Q180.922 411.698 177.843 414.383 Q174.788 417.069 169.07 417.069 Q163.353 417.069 160.274 414.383 Q157.218 411.698 157.218 406.675 Q157.218 403.365 159.117 401.073 Q161.015 398.782 164.394 397.995 M162.681 390.61 Q162.681 393.296 164.348 394.8 Q166.038 396.305 169.07 396.305 Q172.079 396.305 173.769 394.8 Q175.482 393.296 175.482 390.61 Q175.482 387.925 173.769 386.421 Q172.079 384.916 169.07 384.916 Q166.038 384.916 164.348 386.421 Q162.681 387.925 162.681 390.61 Z\" fill=\"#000000\" fill-rule=\"nonzero\" fill-opacity=\"1\" /><path clip-path=\"url(#clip790)\" d=\"M63.4226 84.2966 Q59.8115 84.2966 57.9828 87.8614 Q56.1773 91.4031 56.1773 98.5327 Q56.1773 105.639 57.9828 109.204 Q59.8115 112.746 63.4226 112.746 Q67.0569 112.746 68.8624 109.204 Q70.6911 105.639 70.6911 98.5327 Q70.6911 91.4031 68.8624 87.8614 Q67.0569 84.2966 63.4226 84.2966 M63.4226 80.593 Q69.2328 80.593 72.2883 85.1994 Q75.367 89.7827 75.367 98.5327 Q75.367 107.259 72.2883 111.866 Q69.2328 116.449 63.4226 116.449 Q57.6125 116.449 54.5338 111.866 Q51.4782 107.259 51.4782 98.5327 Q51.4782 89.7827 54.5338 85.1994 Q57.6125 80.593 63.4226 80.593 Z\" fill=\"#000000\" fill-rule=\"nonzero\" fill-opacity=\"1\" /><path clip-path=\"url(#clip790)\" d=\"M83.5845 109.898 L88.4688 109.898 L88.4688 115.778 L83.5845 115.778 L83.5845 109.898 Z\" fill=\"#000000\" fill-rule=\"nonzero\" fill-opacity=\"1\" /><path clip-path=\"url(#clip790)\" d=\"M112.82 97.1438 Q116.177 97.8614 118.052 100.13 Q119.95 102.398 119.95 105.732 Q119.95 110.847 116.432 113.648 Q112.913 116.449 106.432 116.449 Q104.256 116.449 101.941 116.009 Q99.6493 115.593 97.1956 114.736 L97.1956 110.222 Q99.14 111.357 101.455 111.935 Q103.77 112.514 106.293 112.514 Q110.691 112.514 112.983 110.778 Q115.297 109.042 115.297 105.732 Q115.297 102.676 113.145 100.963 Q111.015 99.2271 107.196 99.2271 L103.168 99.2271 L103.168 95.3845 L107.381 95.3845 Q110.83 95.3845 112.658 94.0188 Q114.487 92.6299 114.487 90.0374 Q114.487 87.3753 112.589 85.9633 Q110.714 84.5281 107.196 84.5281 Q105.274 84.5281 103.075 84.9448 Q100.876 85.3615 98.2372 86.2411 L98.2372 82.0744 Q100.899 81.3337 103.214 80.9633 Q105.552 80.593 107.612 80.593 Q112.936 80.593 116.038 83.0235 Q119.14 85.4309 119.14 89.5512 Q119.14 92.4216 117.496 94.4123 Q115.853 96.3799 112.82 97.1438 Z\" fill=\"#000000\" fill-rule=\"nonzero\" fill-opacity=\"1\" /><path clip-path=\"url(#clip790)\" d=\"M129.626 111.843 L137.265 111.843 L137.265 85.4772 L128.955 87.1439 L128.955 82.8846 L137.219 81.218 L141.894 81.218 L141.894 111.843 L149.533 111.843 L149.533 115.778 L129.626 115.778 L129.626 111.843 Z\" fill=\"#000000\" fill-rule=\"nonzero\" fill-opacity=\"1\" /><path clip-path=\"url(#clip790)\" d=\"M168.978 84.2966 Q165.367 84.2966 163.538 87.8614 Q161.732 91.4031 161.732 98.5327 Q161.732 105.639 163.538 109.204 Q165.367 112.746 168.978 112.746 Q172.612 112.746 174.417 109.204 Q176.246 105.639 176.246 98.5327 Q176.246 91.4031 174.417 87.8614 Q172.612 84.2966 168.978 84.2966 M168.978 80.593 Q174.788 80.593 177.843 85.1994 Q180.922 89.7827 180.922 98.5327 Q180.922 107.259 177.843 111.866 Q174.788 116.449 168.978 116.449 Q163.167 116.449 160.089 111.866 Q157.033 107.259 157.033 98.5327 Q157.033 89.7827 160.089 85.1994 Q163.167 80.593 168.978 80.593 Z\" fill=\"#000000\" fill-rule=\"nonzero\" fill-opacity=\"1\" /><polyline clip-path=\"url(#clip792)\" style=\"stroke:#009af9; stroke-linecap:round; stroke-linejoin:round; stroke-width:4; stroke-opacity:1; fill:none\" points=\"277.37,244.298 287.445,268.957 297.519,293.359 307.594,317.506 317.669,341.397 327.744,365.033 337.818,388.413 347.893,411.537 357.968,434.405 368.042,457.018 378.117,479.375 388.192,501.477 398.266,523.322 408.341,544.913 418.416,566.247 428.49,587.326 438.565,608.149 448.64,628.716 458.715,649.028 468.789,669.084 478.864,688.884 488.939,708.429 499.013,727.718 509.088,746.751 519.163,765.529 529.237,784.051 539.312,802.317 549.387,820.328 559.461,838.083 569.536,855.582 579.611,872.826 589.685,889.814 599.76,906.546 609.835,923.023 619.91,939.244 629.984,955.209 640.059,970.918 650.134,986.372 660.208,1001.57 670.283,1016.51 680.358,1031.2 690.432,1045.63 700.507,1059.81 710.582,1073.73 720.656,1087.39 730.731,1100.8 740.806,1113.95 750.88,1126.85 760.955,1139.49 771.03,1151.88 781.105,1164.01 791.179,1175.88 801.254,1187.5 811.329,1198.86 821.403,1209.97 831.478,1220.82 841.553,1231.42 851.627,1241.76 861.702,1251.84 871.777,1261.67 881.851,1271.24 891.926,1280.56 902.001,1289.62 912.075,1298.43 922.15,1306.98 932.225,1315.28 942.3,1323.31 952.374,1331.1 962.449,1338.63 972.524,1345.9 982.598,1352.92 992.673,1359.68 1002.75,1366.18 1012.82,1372.43 1022.9,1378.42 1032.97,1384.16 1043.05,1389.65 1053.12,1394.87 1063.2,1399.84 1073.27,1404.56 1083.35,1409.02 1093.42,1413.22 1103.49,1417.17 1113.57,1420.86 1123.64,1424.3 1133.72,1427.48 1143.79,1430.41 1153.87,1433.08 1163.94,1435.49 1174.02,1437.65 1184.09,1439.55 1194.17,1441.2 1204.24,1442.59 1214.32,1443.73 1224.39,1444.61 1234.47,1445.23 1244.54,1445.6 1254.61,1445.72 1264.69,1445.57 1274.76,1445.18 1284.84,1444.52 1294.91,1443.61 1304.99,1442.45 1315.06,1441.03 1325.14,1439.35 1335.21,1437.42 1345.29,1435.23 1355.36,1432.79 1365.44,1430.09 1375.51,1427.13 1385.59,1423.92 1395.66,1420.46 1405.74,1416.73 1415.81,1412.76 1425.88,1408.52 1435.96,1404.03 1446.03,1399.29 1456.11,1394.29 1466.18,1389.03 1476.26,1383.52 1486.33,1377.75 1496.41,1371.73 1506.48,1365.45 1516.56,1358.92 1526.63,1352.13 1536.71,1345.08 1546.78,1337.78 1556.86,1330.22 1566.93,1322.41 1577,1314.34 1587.08,1306.02 1597.15,1297.44 1607.23,1288.6 1617.3,1279.51 1627.38,1270.17 1637.45,1260.56 1647.53,1250.7 1657.6,1240.59 1667.68,1230.22 1677.75,1219.6 1687.83,1208.72 1697.9,1197.58 1707.98,1186.19 1718.05,1174.54 1728.13,1162.64 1738.2,1150.48 1748.27,1138.06 1758.35,1125.39 1768.42,1112.46 1778.5,1099.28 1788.57,1085.84 1798.65,1072.15 1808.72,1058.2 1818.8,1044 1828.87,1029.54 1838.95,1014.82 1849.02,999.85 1859.1,984.623 1869.17,969.14 1879.25,953.401 1889.32,937.407 1899.39,921.156 1909.47,904.651 1919.54,887.889 1929.62,870.872 1939.69,853.599 1949.77,836.071 1959.84,818.287 1969.92,800.247 1979.99,781.952 1990.07,763.4 2000.14,744.594 2010.22,725.531 2020.29,706.213 2030.37,686.639 2040.44,666.81 2050.52,646.724 2060.59,626.383 2070.66,605.787 2080.74,584.935 2090.81,563.827 2100.89,542.463 2110.96,520.844 2121.04,498.969 2131.11,476.838 2141.19,454.452 2151.26,431.81 2161.34,408.912 2171.41,385.759 2181.49,362.35 2191.56,338.685 2201.64,314.765 2211.71,290.589 2221.78,266.157 2231.86,241.47 2241.93,216.527 2252.01,191.328 2262.08,165.874 2272.16,140.164 2282.23,114.198 2292.31,87.9763 \"/>\n",
       "<path clip-path=\"url(#clip790)\" d=\"M2015.55 1438.47 L2281.56 1438.47 L2281.56 1334.79 L2015.55 1334.79  Z\" fill=\"#ffffff\" fill-rule=\"evenodd\" fill-opacity=\"1\"/>\n",
       "<polyline clip-path=\"url(#clip790)\" style=\"stroke:#000000; stroke-linecap:round; stroke-linejoin:round; stroke-width:4; stroke-opacity:1; fill:none\" points=\"2015.55,1438.47 2281.56,1438.47 2281.56,1334.79 2015.55,1334.79 2015.55,1438.47 \"/>\n",
       "<polyline clip-path=\"url(#clip790)\" style=\"stroke:#009af9; stroke-linecap:round; stroke-linejoin:round; stroke-width:4; stroke-opacity:1; fill:none\" points=\"2039.28,1386.63 2181.67,1386.63 \"/>\n",
       "<path clip-path=\"url(#clip790)\" d=\"M2219.24 1406.32 Q2217.44 1410.95 2215.72 1412.36 Q2214.01 1413.78 2211.14 1413.78 L2207.74 1413.78 L2207.74 1410.21 L2210.24 1410.21 Q2212 1410.21 2212.97 1409.38 Q2213.94 1408.54 2215.12 1405.44 L2215.89 1403.5 L2205.4 1377.99 L2209.91 1377.99 L2218.02 1398.27 L2226.12 1377.99 L2230.63 1377.99 L2219.24 1406.32 Z\" fill=\"#000000\" fill-rule=\"nonzero\" fill-opacity=\"1\" /><path clip-path=\"url(#clip790)\" d=\"M2237.92 1399.98 L2245.56 1399.98 L2245.56 1373.61 L2237.25 1375.28 L2237.25 1371.02 L2245.52 1369.35 L2250.19 1369.35 L2250.19 1399.98 L2257.83 1399.98 L2257.83 1403.91 L2237.92 1403.91 L2237.92 1399.98 Z\" fill=\"#000000\" fill-rule=\"nonzero\" fill-opacity=\"1\" /></svg>\n"
      ]
     },
     "metadata": {},
     "output_type": "display_data"
    }
   ],
   "source": [
    "using Plots\n",
    "\n",
    "t = 0:0.005:1\n",
    "a = 0.03402\n",
    "b = -0.03298\n",
    "c = 0.30903\n",
    "e = (xi -> a*(xi^2) + b*xi + c).(t)\n",
    "\n",
    "println(\"a: $a, b: $b, c: $c\")\n",
    "plot(t,e)"
   ]
  },
  {
   "cell_type": "code",
   "execution_count": 7,
   "metadata": {},
   "outputs": [
    {
     "data": {
      "text/plain": [
       "0.48471487360376253"
      ]
     },
     "metadata": {},
     "output_type": "display_data"
    }
   ],
   "source": [
    "0.03298/(0.03402 * 2)"
   ]
  },
  {
   "cell_type": "code",
   "execution_count": 9,
   "metadata": {},
   "outputs": [
    {
     "data": {
      "text/plain": [
       "1.2167205406993828"
      ]
     },
     "metadata": {},
     "output_type": "display_data"
    }
   ],
   "source": [
    "0.08281/(0.03403 * 2)"
   ]
  },
  {
   "cell_type": "code",
   "execution_count": 15,
   "metadata": {},
   "outputs": [
    {
     "name": "stdout",
     "output_type": "stream",
     "text": [
      "b: -0.08280907372400756; 2a: 0.06805293005671077; argmin: 1.2168333333333334 => 0.30699680718336486\n"
     ]
    }
   ],
   "source": [
    "a = 18 /529\n",
    "b = -21903/264500\n",
    "c = 188207311/529000000\n",
    "\n",
    "err(t) = c + b*t + a*(t^2)\n",
    "m = -b / (2 * a)\n",
    "\n",
    "println(\"b: $b; 2a: $(2*a); argmin: $m => $(err(1))\")"
   ]
  },
  {
   "cell_type": "code",
   "execution_count": null,
   "metadata": {},
   "outputs": [],
   "source": []
  }
 ],
 "metadata": {
  "kernelspec": {
   "display_name": "Julia 1.9.3",
   "language": "julia",
   "name": "julia-1.9"
  },
  "language_info": {
   "file_extension": ".jl",
   "mimetype": "application/julia",
   "name": "julia",
   "version": "1.9.3"
  },
  "orig_nbformat": 4
 },
 "nbformat": 4,
 "nbformat_minor": 2
}
